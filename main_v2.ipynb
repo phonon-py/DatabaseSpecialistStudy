{
 "cells": [
  {
   "cell_type": "code",
   "execution_count": 4,
   "metadata": {},
   "outputs": [
    {
     "name": "stderr",
     "output_type": "stream",
     "text": [
      "/var/folders/vp/nnsffs990cb9grbk5s17z9nw0000gn/T/ipykernel_59758/3622290670.py:14: MovedIn20Warning: The ``declarative_base()`` function is now available as sqlalchemy.orm.declarative_base(). (deprecated since: 2.0) (Background on SQLAlchemy 2.0 at: https://sqlalche.me/e/b8d9)\n",
      "  Base = declarative_base()\n"
     ]
    }
   ],
   "source": [
    "from sqlalchemy import create_engine, Column, Integer, String, text\n",
    "from sqlalchemy.orm import sessionmaker\n",
    "from sqlalchemy.ext.declarative import declarative_base\n",
    "import pandas as pd\n",
    "\n",
    "# データベースエンジンの作成\n",
    "engine = create_engine('sqlite:///:memory:', echo=False)\n",
    "\n",
    "# セッションの設定\n",
    "Session = sessionmaker(bind=engine)\n",
    "session = Session()\n",
    "\n",
    "# Baseクラスの定義\n",
    "Base = declarative_base()\n",
    "\n",
    "# 架空のcustomerテーブルの定義\n",
    "class Customer(Base):\n",
    "    __tablename__ = 'customer'\n",
    "    customer_id = Column(Integer, primary_key=True)\n",
    "    rank = Column(Integer)\n",
    "    address = Column(String)\n",
    "\n",
    "# テーブルの作成\n",
    "Base.metadata.create_all(engine)\n",
    "\n",
    "# データの挿入\n",
    "session.add_all([\n",
    "    Customer(customer_id=1, rank=10, address='Address 1'),\n",
    "    Customer(customer_id=2, rank=20, address='Address 2'),\n",
    "    Customer(customer_id=3, rank=30, address='Address 3'),\n",
    "    Customer(customer_id=4, rank=5, address='Address 4')\n",
    "])\n",
    "session.commit()\n",
    "\n",
    "# Viewの定義\n",
    "view_definition = \"\"\"\n",
    "CREATE VIEW view3 AS\n",
    "SELECT customer.customer_id, customer.rank, customer.address\n",
    "FROM customer\n",
    "WHERE customer.rank > 15;\n",
    "\"\"\"\n",
    "\n",
    "# Viewの作成\n",
    "session.execute(text(view_definition))\n",
    "session.commit()\n",
    "\n",
    "# クエリの作成\n",
    "customer_query = session.query(Customer)\n",
    "\n",
    "# Customer dfの作成\n",
    "df_customer = pd.read_sql(customer_query.statement,customer_query.session.bind)\n",
    "\n",
    "# Viewをデータフレームに読み込む\n",
    "df = pd.read_sql('SELECT * FROM view3', engine)"
   ]
  },
  {
   "cell_type": "code",
   "execution_count": 5,
   "metadata": {},
   "outputs": [
    {
     "data": {
      "text/html": [
       "<div>\n",
       "<style scoped>\n",
       "    .dataframe tbody tr th:only-of-type {\n",
       "        vertical-align: middle;\n",
       "    }\n",
       "\n",
       "    .dataframe tbody tr th {\n",
       "        vertical-align: top;\n",
       "    }\n",
       "\n",
       "    .dataframe thead th {\n",
       "        text-align: right;\n",
       "    }\n",
       "</style>\n",
       "<table border=\"1\" class=\"dataframe\">\n",
       "  <thead>\n",
       "    <tr style=\"text-align: right;\">\n",
       "      <th></th>\n",
       "      <th>customer_id</th>\n",
       "      <th>rank</th>\n",
       "      <th>address</th>\n",
       "    </tr>\n",
       "  </thead>\n",
       "  <tbody>\n",
       "    <tr>\n",
       "      <th>0</th>\n",
       "      <td>1</td>\n",
       "      <td>10</td>\n",
       "      <td>Address 1</td>\n",
       "    </tr>\n",
       "    <tr>\n",
       "      <th>1</th>\n",
       "      <td>2</td>\n",
       "      <td>20</td>\n",
       "      <td>Address 2</td>\n",
       "    </tr>\n",
       "    <tr>\n",
       "      <th>2</th>\n",
       "      <td>3</td>\n",
       "      <td>30</td>\n",
       "      <td>Address 3</td>\n",
       "    </tr>\n",
       "    <tr>\n",
       "      <th>3</th>\n",
       "      <td>4</td>\n",
       "      <td>5</td>\n",
       "      <td>Address 4</td>\n",
       "    </tr>\n",
       "  </tbody>\n",
       "</table>\n",
       "</div>"
      ],
      "text/plain": [
       "   customer_id  rank    address\n",
       "0            1    10  Address 1\n",
       "1            2    20  Address 2\n",
       "2            3    30  Address 3\n",
       "3            4     5  Address 4"
      ]
     },
     "execution_count": 5,
     "metadata": {},
     "output_type": "execute_result"
    }
   ],
   "source": [
    "df_customer"
   ]
  },
  {
   "cell_type": "code",
   "execution_count": 6,
   "metadata": {},
   "outputs": [
    {
     "data": {
      "text/html": [
       "<div>\n",
       "<style scoped>\n",
       "    .dataframe tbody tr th:only-of-type {\n",
       "        vertical-align: middle;\n",
       "    }\n",
       "\n",
       "    .dataframe tbody tr th {\n",
       "        vertical-align: top;\n",
       "    }\n",
       "\n",
       "    .dataframe thead th {\n",
       "        text-align: right;\n",
       "    }\n",
       "</style>\n",
       "<table border=\"1\" class=\"dataframe\">\n",
       "  <thead>\n",
       "    <tr style=\"text-align: right;\">\n",
       "      <th></th>\n",
       "      <th>customer_id</th>\n",
       "      <th>rank</th>\n",
       "      <th>address</th>\n",
       "    </tr>\n",
       "  </thead>\n",
       "  <tbody>\n",
       "    <tr>\n",
       "      <th>0</th>\n",
       "      <td>2</td>\n",
       "      <td>20</td>\n",
       "      <td>Address 2</td>\n",
       "    </tr>\n",
       "    <tr>\n",
       "      <th>1</th>\n",
       "      <td>3</td>\n",
       "      <td>30</td>\n",
       "      <td>Address 3</td>\n",
       "    </tr>\n",
       "  </tbody>\n",
       "</table>\n",
       "</div>"
      ],
      "text/plain": [
       "   customer_id  rank    address\n",
       "0            2    20  Address 2\n",
       "1            3    30  Address 3"
      ]
     },
     "execution_count": 6,
     "metadata": {},
     "output_type": "execute_result"
    }
   ],
   "source": [
    "df"
   ]
  },
  {
   "cell_type": "markdown",
   "metadata": {},
   "source": [
    "おっしゃる通り、用途や状況によって、SQLのビューを使う場合とPandasを使う場合のどちらが適しているかが異なります。それぞれのメリットとデメリットを理解することで、より適切な選択をすることができます。\n",
    "\n",
    "### SQLのビューのメリットとデメリット\n",
    "\n",
    "#### メリット\n",
    "1. **パフォーマンス**: データベース側でビューを使用すると、クエリのパフォーマンスが向上する場合があります。特に大規模なデータセットに対して複雑な集計や結合を行う場合、データベースエンジンが最適化を行うため、効率的です。\n",
    "2. **データの一貫性**: ビューを使うことで、共通のデータ抽出ロジックを一元管理でき、データの一貫性を保つことができます。\n",
    "3. **セキュリティ**: ビューを使用することで、ユーザーに対して特定のカラムやレコードだけを公開することができ、データのアクセス制御が容易になります。\n",
    "4. **再利用性**: 一度定義したビューは、他のクエリやアプリケーションからも再利用できるため、開発効率が向上します。\n",
    "\n",
    "#### デメリット\n",
    "1. **柔軟性の欠如**: ビューは事前に定義されたクエリに基づいているため、動的なデータ操作やフィルタリングには不向きです。\n",
    "2. **メンテナンスコスト**: ビューの定義や管理には追加のメンテナンスが必要です。また、データベースのスキーマが変更された場合、ビューの更新も必要になります。\n",
    "3. **依存関係**: ビューに依存するアプリケーションが増えると、ビューの変更が困難になることがあります。\n",
    "\n",
    "### Pandasのメリットとデメリット\n",
    "\n",
    "#### メリット\n",
    "1. **柔軟性**: PandasはPython内でのデータ操作に非常に柔軟で、動的なフィルタリングや変換が容易です。\n",
    "2. **使いやすさ**: Pandasのデータフレームは直感的で使いやすく、データ分析や操作を迅速に行うことができます。\n",
    "3. **統合性**: Pandasは他のPythonライブラリ（例えば、NumPyやMatplotlib）と容易に統合でき、データの前処理から可視化まで一貫して行うことができます。\n",
    "4. **ローカルな処理**: データをローカルに持ってきて操作するため、データベースの負荷を軽減できます。\n",
    "\n",
    "#### デメリット\n",
    "1. **メモリ使用量**: 大規模なデータセットを扱う場合、メモリ使用量が大きくなり、ローカル環境での処理が困難になることがあります。\n",
    "2. **パフォーマンスの限界**: 非常に大きなデータセットに対しては、データベースの最適化やインデックスを活用したビューの方がパフォーマンスが良い場合があります。\n",
    "3. **データベースとの同期**: データベースの変更をリアルタイムで反映させるには手動でデータを再読み込みする必要があります。\n",
    "\n",
    "### 結論\n",
    "\n",
    "データベース内での一貫したデータ抽出やセキュリティが重要である場合、ビューを使うことが適しています。一方で、柔軟なデータ操作や分析が求められる場合、Pandasを使う方が便利です。\n",
    "\n",
    "具体的なユースケースに応じて、どちらのアプローチが適しているかを判断することが重要です。どちらのツールも強力であり、それぞれの長所を活かして使い分けることで、効率的に作業を進めることができます。"
   ]
  },
  {
   "cell_type": "code",
   "execution_count": 8,
   "metadata": {},
   "outputs": [
    {
     "name": "stdout",
     "output_type": "stream",
     "text": [
      "\n",
      "第2正規形:\n",
      "   employee_id  department_id employee_name department_name\n",
      "0            1              1         Alice              HR\n",
      "1            2              2           Bob     Engineering\n",
      "2            3              3       Charlie           Sales\n",
      "3            4              1         David              HR\n",
      "\n",
      "第2正規形:\n",
      "   department_id department_name\n",
      "0              1              HR\n",
      "1              2     Engineering\n",
      "2              3           Sales\n",
      "\n",
      "第3正規形:\n",
      "   employee_id  department_id employee_name\n",
      "0            1              1         Alice\n",
      "1            2              2           Bob\n",
      "2            3              3       Charlie\n",
      "3            4              1         David\n",
      "\n",
      "第3正規形 (Department):\n",
      "   department_id department_name\n",
      "0              1              HR\n",
      "1              2     Engineering\n",
      "2              3           Sales\n"
     ]
    },
    {
     "name": "stderr",
     "output_type": "stream",
     "text": [
      "/var/folders/vp/nnsffs990cb9grbk5s17z9nw0000gn/T/ipykernel_59758/2535173677.py:15: MovedIn20Warning: The ``declarative_base()`` function is now available as sqlalchemy.orm.declarative_base(). (deprecated since: 2.0) (Background on SQLAlchemy 2.0 at: https://sqlalche.me/e/b8d9)\n",
      "  Base = declarative_base()\n"
     ]
    }
   ],
   "source": [
    "from sqlalchemy import create_engine, Column, Integer, String, ForeignKey\n",
    "from sqlalchemy.orm import sessionmaker, relationship\n",
    "from sqlalchemy.ext.declarative import declarative_base\n",
    "import pandas as pd\n",
    "\n",
    "\n",
    "# データベースエンジンの作成\n",
    "engine = create_engine('sqlite:///:memory:', echo=False)\n",
    "\n",
    "# セッションの設定\n",
    "Session = sessionmaker(bind=engine)\n",
    "session = Session()\n",
    "\n",
    "# Baseクラスの定義\n",
    "Base = declarative_base()\n",
    "\n",
    "# 第2正規形のテーブルの定義\n",
    "class Employee(Base):\n",
    "    __tablename__ = 'employee'\n",
    "    employee_id = Column(Integer, primary_key=True)\n",
    "    department_id = Column(Integer, ForeignKey('department.department_id'))\n",
    "    employee_name = Column(String)\n",
    "    department_name = Column(String)\n",
    "\n",
    "class Department(Base):\n",
    "    __tablename__ = 'department'\n",
    "    department_id = Column(Integer, primary_key=True)\n",
    "    department_name = Column(String)\n",
    "\n",
    "# テーブルの作成\n",
    "Base.metadata.create_all(engine)\n",
    "\n",
    "# データの挿入\n",
    "session.add_all([\n",
    "    Department(department_id=1, department_name='HR'),\n",
    "    Department(department_id=2, department_name='Engineering'),\n",
    "    Department(department_id=3, department_name='Sales'),\n",
    "    Employee(employee_id=1, department_id=1, employee_name='Alice', department_name='HR'),\n",
    "    Employee(employee_id=2, department_id=2, employee_name='Bob', department_name='Engineering'),\n",
    "    Employee(employee_id=3, department_id=3, employee_name='Charlie', department_name='Sales'),\n",
    "    Employee(employee_id=4, department_id=1, employee_name='David', department_name='HR')\n",
    "])\n",
    "session.commit()\n",
    "\n",
    "# 第3正規形のテーブルの定義\n",
    "class Employee3NF(Base):\n",
    "    __tablename__ = 'employee_3nf'\n",
    "    employee_id = Column(Integer, primary_key=True)\n",
    "    department_id = Column(Integer, ForeignKey('department_3nf.department_id'))\n",
    "    employee_name = Column(String)\n",
    "\n",
    "class Department3NF(Base):\n",
    "    __tablename__ = 'department_3nf'\n",
    "    department_id = Column(Integer, primary_key=True)\n",
    "    department_name = Column(String)\n",
    "\n",
    "# テーブルの作成\n",
    "Base.metadata.create_all(engine)\n",
    "\n",
    "# データの挿入\n",
    "session.add_all([\n",
    "    Department3NF(department_id=1, department_name='HR'),\n",
    "    Department3NF(department_id=2, department_name='Engineering'),\n",
    "    Department3NF(department_id=3, department_name='Sales'),\n",
    "    Employee3NF(employee_id=1, department_id=1, employee_name='Alice'),\n",
    "    Employee3NF(employee_id=2, department_id=2, employee_name='Bob'),\n",
    "    Employee3NF(employee_id=3, department_id=3, employee_name='Charlie'),\n",
    "    Employee3NF(employee_id=4, department_id=1, employee_name='David')\n",
    "])\n",
    "session.commit()\n",
    "\n",
    "# 第2正規形のデータを取得\n",
    "employee_query_2nf = session.query(Employee)\n",
    "df_employee_2nf = pd.read_sql(employee_query_2nf.statement, employee_query_2nf.session.bind)\n",
    "print(\"\\n第2正規形:\")\n",
    "print(df_employee_2nf)\n",
    "\n",
    "# 第2正規形のデータを取得\n",
    "department_query_2nf = session.query(Department)\n",
    "df_department_2nf = pd.read_sql(department_query_2nf.statement, department_query_2nf.session.bind)\n",
    "print(\"\\n第2正規形:\")\n",
    "print(df_department_2nf)\n",
    "\n",
    "\n",
    "# 第3正規形のデータを取得\n",
    "employee_query_3nf = session.query(Employee3NF)\n",
    "df_employee_3nf = pd.read_sql(employee_query_3nf.statement, employee_query_3nf.session.bind)\n",
    "print(\"\\n第3正規形:\")\n",
    "print(df_employee_3nf)\n",
    "\n",
    "department_query_3nf = session.query(Department3NF)\n",
    "df_department_3nf = pd.read_sql(department_query_3nf.statement, department_query_3nf.session.bind)\n",
    "print(\"\\n第3正規形 (Department):\")\n",
    "print(df_department_3nf)"
   ]
  },
  {
   "cell_type": "markdown",
   "metadata": {},
   "source": [
    "ACID特性を小学生でもわかるように説明します。\n",
    "\n",
    "データベースのACID特性とは、データベースが安全に、そして確実にデータを扱うための4つの大切なルールです。ACIDは、それぞれのルールの頭文字を取った言葉です。\n",
    "\n",
    "### 1. **A (Atomicity) - 原子性**\n",
    "原子性とは、データベースの操作がすべて成功するか、まったく何も行われないかのどちらかであることを意味します。\n",
    "\n",
    "**例**: おもちゃ箱におもちゃを入れる操作を考えます。おもちゃを入れるときは、必ず全部のおもちゃを入れるか、何も入れないかのどちらかです。途中でおもちゃを半分だけ入れてやめることはありません。\n",
    "\n",
    "### 2. **C (Consistency) - 一貫性**\n",
    "一貫性とは、データベースが正しい状態を常に保つことを意味します。データを保存する前と後で、データのルールが守られていることを保証します。\n",
    "\n",
    "**例**: レゴブロックのセットを考えます。ブロックを組み立てるときは、必ず正しい形になるように組み立てます。間違った形で組み立てることはありません。\n",
    "\n",
    "### 3. **I (Isolation) - 独立性**\n",
    "独立性とは、複数の操作が同時に行われても、それぞれが他の操作に影響されないことを意味します。\n",
    "\n",
    "**例**: 2人の子どもがそれぞれ別のおもちゃを片付けているとき、お互いに邪魔をしないようにします。一人が片付けているおもちゃ箱を、もう一人が触らないようにするのです。\n",
    "\n",
    "### 4. **D (Durability) - 永続性**\n",
    "永続性とは、データベースに保存されたデータが、システムが壊れたり電源が切れたりしても失われないことを意味します。\n",
    "\n",
    "**例**: 絵を描いて保存することを考えます。一度描いた絵をセーブしたら、その後で電源を切っても、絵がちゃんと残っています。次に電源を入れたときも、絵は消えずにそこにあります。\n",
    "\n",
    "### まとめ\n",
    "- **原子性 (Atomicity)**: 全部やるか、何もやらないか。\n",
    "- **一貫性 (Consistency)**: いつも正しい状態を保つ。\n",
    "- **独立性 (Isolation)**: 他の操作に邪魔されない。\n",
    "- **永続性 (Durability)**: データは消えない。\n",
    "\n",
    "この4つのルールがあることで、データベースは安全で正確にデータを扱うことができます。"
   ]
  },
  {
   "cell_type": "code",
   "execution_count": 10,
   "metadata": {},
   "outputs": [
    {
     "name": "stdout",
     "output_type": "stream",
     "text": [
      "2024-06-04 05:42:59,820 INFO sqlalchemy.engine.Engine BEGIN (implicit)\n",
      "2024-06-04 05:42:59,821 INFO sqlalchemy.engine.Engine PRAGMA main.table_info(\"hash_table\")\n",
      "2024-06-04 05:42:59,822 INFO sqlalchemy.engine.Engine [raw sql] ()\n",
      "2024-06-04 05:42:59,827 INFO sqlalchemy.engine.Engine PRAGMA temp.table_info(\"hash_table\")\n",
      "2024-06-04 05:42:59,827 INFO sqlalchemy.engine.Engine [raw sql] ()\n",
      "2024-06-04 05:42:59,828 INFO sqlalchemy.engine.Engine \n",
      "CREATE TABLE hash_table (\n",
      "\tid INTEGER NOT NULL, \n",
      "\t\"key\" VARCHAR, \n",
      "\tvalue VARCHAR, \n",
      "\tPRIMARY KEY (id), \n",
      "\tUNIQUE (\"key\")\n",
      ")\n",
      "\n",
      "\n",
      "2024-06-04 05:42:59,829 INFO sqlalchemy.engine.Engine [no key 0.00034s] ()\n",
      "2024-06-04 05:42:59,831 INFO sqlalchemy.engine.Engine COMMIT\n",
      "2024-06-04 05:42:59,834 INFO sqlalchemy.engine.Engine BEGIN (implicit)\n",
      "2024-06-04 05:42:59,839 INFO sqlalchemy.engine.Engine INSERT INTO hash_table (\"key\", value) VALUES (?, ?)\n",
      "2024-06-04 05:42:59,840 INFO sqlalchemy.engine.Engine [generated in 0.00189s] ('5e8dabf60847a5861e5244a2c92c4a0d', 'example_value')\n",
      "2024-06-04 05:42:59,842 INFO sqlalchemy.engine.Engine COMMIT\n",
      "2024-06-04 05:42:59,843 INFO sqlalchemy.engine.Engine BEGIN (implicit)\n",
      "2024-06-04 05:42:59,844 INFO sqlalchemy.engine.Engine SELECT hash_table.id AS hash_table_id, hash_table.\"key\" AS hash_table_key, hash_table.value AS hash_table_value \n",
      "FROM hash_table\n",
      "2024-06-04 05:42:59,844 INFO sqlalchemy.engine.Engine [generated in 0.00049s] ()\n",
      "   id                               key          value\n",
      "0   1  5e8dabf60847a5861e5244a2c92c4a0d  example_value\n"
     ]
    },
    {
     "name": "stderr",
     "output_type": "stream",
     "text": [
      "/var/folders/vp/nnsffs990cb9grbk5s17z9nw0000gn/T/ipykernel_59758/1415127022.py:7: MovedIn20Warning: The ``declarative_base()`` function is now available as sqlalchemy.orm.declarative_base(). (deprecated since: 2.0) (Background on SQLAlchemy 2.0 at: https://sqlalche.me/e/b8d9)\n",
      "  Base = declarative_base()\n"
     ]
    }
   ],
   "source": [
    "from sqlalchemy import create_engine, Column, Integer, String\n",
    "from sqlalchemy.ext.declarative import declarative_base\n",
    "from sqlalchemy.orm import sessionmaker\n",
    "import hashlib\n",
    "import pandas as pd\n",
    "\n",
    "Base = declarative_base()\n",
    "\n",
    "class HashTable(Base):\n",
    "    __tablename__ = 'hash_table'\n",
    "    id = Column(Integer, primary_key=True)\n",
    "    key = Column(String, unique=True)\n",
    "    value = Column(String)\n",
    "\n",
    "# echo=Trueにするとデバック用にSQL文が出力される。\n",
    "engine = create_engine('sqlite:///:memory:', echo=True)\n",
    "Base.metadata.create_all(engine)\n",
    "\n",
    "Session = sessionmaker(bind=engine)\n",
    "session = Session()\n",
    "\n",
    "# ハッシュ関数を使用したデータ格納例\n",
    "def insert_with_hash(key, value):\n",
    "    hash_key = hashlib.md5(key.encode('utf-8')).hexdigest()\n",
    "    new_entry = HashTable(key=hash_key, value=value)\n",
    "    session.add(new_entry)\n",
    "    session.commit()\n",
    "\n",
    "# データの挿入\n",
    "insert_with_hash('example_key', 'example_value')\n",
    "\n",
    "# データベースからデータを取得してpandasで表示\n",
    "result = session.query(HashTable).all()\n",
    "data = [{'id': row.id, 'key': row.key, 'value': row.value} for row in result]\n",
    "df = pd.DataFrame(data)\n",
    "print(df)"
   ]
  },
  {
   "cell_type": "code",
   "execution_count": 11,
   "metadata": {},
   "outputs": [
    {
     "name": "stdout",
     "output_type": "stream",
     "text": [
      "2024-06-04 05:47:27,498 INFO sqlalchemy.engine.Engine BEGIN (implicit)\n",
      "2024-06-04 05:47:27,500 INFO sqlalchemy.engine.Engine PRAGMA main.table_info(\"users\")\n",
      "2024-06-04 05:47:27,501 INFO sqlalchemy.engine.Engine [raw sql] ()\n",
      "2024-06-04 05:47:27,504 INFO sqlalchemy.engine.Engine PRAGMA temp.table_info(\"users\")\n",
      "2024-06-04 05:47:27,506 INFO sqlalchemy.engine.Engine [raw sql] ()\n",
      "2024-06-04 05:47:27,507 INFO sqlalchemy.engine.Engine \n",
      "CREATE TABLE users (\n",
      "\tid INTEGER NOT NULL, \n",
      "\tusername VARCHAR, \n",
      "\tpassword_hash VARCHAR, \n",
      "\tPRIMARY KEY (id), \n",
      "\tUNIQUE (username)\n",
      ")\n",
      "\n",
      "\n",
      "2024-06-04 05:47:27,508 INFO sqlalchemy.engine.Engine [no key 0.00108s] ()\n",
      "2024-06-04 05:47:27,509 INFO sqlalchemy.engine.Engine COMMIT\n",
      "2024-06-04 05:47:27,516 INFO sqlalchemy.engine.Engine BEGIN (implicit)\n",
      "2024-06-04 05:47:27,517 INFO sqlalchemy.engine.Engine INSERT INTO users (username, password_hash) VALUES (?, ?)\n",
      "2024-06-04 05:47:27,518 INFO sqlalchemy.engine.Engine [generated in 0.00047s] ('example_user', 'ff2f12ec5c6a2e9ef6b61c958ed701c327469190a18075fd909ec2a9b42b94f2')\n",
      "2024-06-04 05:47:27,519 INFO sqlalchemy.engine.Engine COMMIT\n",
      "2024-06-04 05:47:27,520 INFO sqlalchemy.engine.Engine BEGIN (implicit)\n",
      "2024-06-04 05:47:27,522 INFO sqlalchemy.engine.Engine SELECT users.id AS users_id, users.username AS users_username, users.password_hash AS users_password_hash \n",
      "FROM users \n",
      "WHERE users.username = ?\n",
      " LIMIT ? OFFSET ?\n",
      "2024-06-04 05:47:27,523 INFO sqlalchemy.engine.Engine [generated in 0.00048s] ('example_user', 1, 0)\n",
      "True\n",
      "False\n"
     ]
    },
    {
     "name": "stderr",
     "output_type": "stream",
     "text": [
      "/var/folders/vp/nnsffs990cb9grbk5s17z9nw0000gn/T/ipykernel_59758/994782604.py:6: MovedIn20Warning: The ``declarative_base()`` function is now available as sqlalchemy.orm.declarative_base(). (deprecated since: 2.0) (Background on SQLAlchemy 2.0 at: https://sqlalche.me/e/b8d9)\n",
      "  Base = declarative_base()\n"
     ]
    }
   ],
   "source": [
    "import hashlib\n",
    "from sqlalchemy import create_engine, Column, Integer, String\n",
    "from sqlalchemy.ext.declarative import declarative_base\n",
    "from sqlalchemy.orm import sessionmaker\n",
    "\n",
    "Base = declarative_base()\n",
    "\n",
    "class User(Base):\n",
    "    __tablename__ = 'users'\n",
    "    id = Column(Integer, primary_key=True)\n",
    "    username = Column(String, unique=True)\n",
    "    password_hash = Column(String)\n",
    "\n",
    "# echo=Trueにするとデバック用にSQL文が出力される。\n",
    "engine = create_engine('sqlite:///:memory:', echo=True)\n",
    "Base.metadata.create_all(engine)\n",
    "\n",
    "Session = sessionmaker(bind=engine)\n",
    "session = Session()\n",
    "\n",
    "def hash_password(password):\n",
    "    return hashlib.sha256(password.encode('utf-8')).hexdigest()\n",
    "\n",
    "def create_user(username, password):\n",
    "    password_hash = hash_password(password)\n",
    "    new_user = User(username=username, password_hash=password_hash)\n",
    "    session.add(new_user)\n",
    "    session.commit()\n",
    "\n",
    "def verify_password(stored_password_hash, provided_password):\n",
    "    return stored_password_hash == hash_password(provided_password)\n",
    "\n",
    "# ユーザーの作成\n",
    "create_user('example_user', 'secure_password')\n",
    "\n",
    "# ログイン時の検証\n",
    "stored_user = session.query(User).filter_by(username='example_user').first()\n",
    "print(verify_password(stored_user.password_hash, 'secure_password'))  # Trueが表示されます\n",
    "print(verify_password(stored_user.password_hash, 'wrong_password'))    # Falseが表示されます"
   ]
  },
  {
   "cell_type": "code",
   "execution_count": 12,
   "metadata": {},
   "outputs": [
    {
     "name": "stdout",
     "output_type": "stream",
     "text": [
      "2.718281828459045 1.0\n"
     ]
    }
   ],
   "source": [
    "import numpy as np\n",
    "a = np.full((1, 5), np.e).T.ravel()\n",
    "b = np.linspace(0, 1, 5)\n",
    "c = np.hstack([a, b])\n",
    "print(a[-1], c[-1])"
   ]
  },
  {
   "cell_type": "code",
   "execution_count": 13,
   "metadata": {},
   "outputs": [
    {
     "data": {
      "text/plain": [
       "array([2.71828183, 2.71828183, 2.71828183, 2.71828183, 2.71828183])"
      ]
     },
     "execution_count": 13,
     "metadata": {},
     "output_type": "execute_result"
    }
   ],
   "source": [
    "a"
   ]
  },
  {
   "cell_type": "code",
   "execution_count": 16,
   "metadata": {},
   "outputs": [
    {
     "data": {
      "text/plain": [
       "array([2.71828183, 2.71828183, 2.71828183, 2.71828183, 2.71828183])"
      ]
     },
     "execution_count": 16,
     "metadata": {},
     "output_type": "execute_result"
    }
   ],
   "source": [
    "np.full((1,5), np.e).T.ravel()"
   ]
  },
  {
   "cell_type": "code",
   "execution_count": 17,
   "metadata": {},
   "outputs": [
    {
     "data": {
      "text/plain": [
       "array([2.71828183, 2.71828183, 2.71828183, 2.71828183, 2.71828183])"
      ]
     },
     "execution_count": 17,
     "metadata": {},
     "output_type": "execute_result"
    }
   ],
   "source": [
    "np.full((1,5),np.e).ravel()"
   ]
  },
  {
   "cell_type": "code",
   "execution_count": 31,
   "metadata": {},
   "outputs": [
    {
     "name": "stdout",
     "output_type": "stream",
     "text": [
      "2024-06-05 06:27:50,934 INFO sqlalchemy.engine.Engine BEGIN (implicit)\n",
      "2024-06-05 06:27:50,935 INFO sqlalchemy.engine.Engine PRAGMA main.table_info(\"A\")\n",
      "2024-06-05 06:27:50,935 INFO sqlalchemy.engine.Engine [raw sql] ()\n",
      "2024-06-05 06:27:50,936 INFO sqlalchemy.engine.Engine PRAGMA temp.table_info(\"A\")\n",
      "2024-06-05 06:27:50,936 INFO sqlalchemy.engine.Engine [raw sql] ()\n",
      "2024-06-05 06:27:50,937 INFO sqlalchemy.engine.Engine \n",
      "CREATE TABLE \"A\" (\n",
      "\tid INTEGER NOT NULL, \n",
      "\tdata VARCHAR, \n",
      "\tPRIMARY KEY (id)\n",
      ")\n",
      "\n",
      "\n",
      "2024-06-05 06:27:50,938 INFO sqlalchemy.engine.Engine [no key 0.00033s] ()\n",
      "2024-06-05 06:27:50,938 INFO sqlalchemy.engine.Engine COMMIT\n",
      "2024-06-05 06:27:50,939 INFO sqlalchemy.engine.Engine BEGIN (implicit)\n",
      "2024-06-05 06:27:50,939 INFO sqlalchemy.engine.Engine INSERT INTO \"A\" (id, data) VALUES (?, ?)\n",
      "2024-06-05 06:27:50,940 INFO sqlalchemy.engine.Engine [generated in 0.00031s] [(1, 'row1'), (2, 'row2')]\n",
      "2024-06-05 06:27:50,941 INFO sqlalchemy.engine.Engine COMMIT\n",
      "2024-06-05 06:27:50,943 INFO sqlalchemy.engine.Engine BEGIN (implicit)\n",
      "2024-06-05 06:27:50,944 INFO sqlalchemy.engine.Engine SELECT \"A\".id, \"A\".data \n",
      "FROM \"A\"\n",
      "2024-06-05 06:27:50,944 INFO sqlalchemy.engine.Engine [generated in 0.00182s] ()\n",
      "2024-06-05 06:27:50,947 INFO sqlalchemy.engine.Engine ROLLBACK\n",
      "サンプルデータ:\n",
      "    id  data\n",
      "0   1  row1\n",
      "1   2  row2\n",
      "2024-06-05 06:27:50,952 INFO sqlalchemy.engine.Engine BEGIN (implicit)\n",
      "2024-06-05 06:27:50,953 INFO sqlalchemy.engine.Engine SELECT \"A\".id, \"A\".data \n",
      "FROM \"A\"\n",
      "2024-06-05 06:27:50,953 INFO sqlalchemy.engine.Engine [generated in 0.00031s] ()\n",
      "共有ロックを獲得した行: \n",
      "    id  data\n",
      "0   1  row1\n",
      "1   2  row2\n"
     ]
    }
   ],
   "source": [
    "from sqlalchemy import create_engine, MetaData, Table, Column, Integer, String, select\n",
    "from sqlalchemy.orm import sessionmaker\n",
    "import pandas as pd\n",
    "\n",
    "# データベースエンジンの作成\n",
    "engine = create_engine('sqlite:///:memory:', echo=True)\n",
    "metadata = MetaData()\n",
    "\n",
    "# テーブルの定義\n",
    "A = Table('A', metadata,\n",
    "          Column('id', Integer, primary_key=True),\n",
    "          Column('data', String))\n",
    "\n",
    "metadata.create_all(engine)\n",
    "\n",
    "# セッションの作成\n",
    "Session = sessionmaker(bind=engine)\n",
    "session = Session()\n",
    "\n",
    "# サンプルデータの挿入\n",
    "session.execute(A.insert(), [{'id': 1, 'data': 'row1'}, {'id': 2, 'data': 'row2'}])\n",
    "session.commit()\n",
    "\n",
    "# データの確認\n",
    "A_query = session.query(A)\n",
    "df = pd.read_sql(A_query.statement, A_query.session.bind)\n",
    "print(\"サンプルデータ:\\n\", df)\n",
    "\n",
    "# 専有ロックの獲得（読み取り）\n",
    "stmt = select(A).with_for_update()\n",
    "result = session.execute(stmt)\n",
    "df_locked = pd.DataFrame(result.fetchall(), columns=result.keys())\n",
    "print(\"共有ロックを獲得した行: \\n\", df_locked)"
   ]
  },
  {
   "cell_type": "code",
   "execution_count": 32,
   "metadata": {},
   "outputs": [
    {
     "data": {
      "text/html": [
       "<div>\n",
       "<style scoped>\n",
       "    .dataframe tbody tr th:only-of-type {\n",
       "        vertical-align: middle;\n",
       "    }\n",
       "\n",
       "    .dataframe tbody tr th {\n",
       "        vertical-align: top;\n",
       "    }\n",
       "\n",
       "    .dataframe thead th {\n",
       "        text-align: right;\n",
       "    }\n",
       "</style>\n",
       "<table border=\"1\" class=\"dataframe\">\n",
       "  <thead>\n",
       "    <tr style=\"text-align: right;\">\n",
       "      <th></th>\n",
       "      <th>id</th>\n",
       "      <th>data</th>\n",
       "    </tr>\n",
       "  </thead>\n",
       "  <tbody>\n",
       "    <tr>\n",
       "      <th>0</th>\n",
       "      <td>1</td>\n",
       "      <td>row1</td>\n",
       "    </tr>\n",
       "    <tr>\n",
       "      <th>1</th>\n",
       "      <td>2</td>\n",
       "      <td>row2</td>\n",
       "    </tr>\n",
       "  </tbody>\n",
       "</table>\n",
       "</div>"
      ],
      "text/plain": [
       "   id  data\n",
       "0   1  row1\n",
       "1   2  row2"
      ]
     },
     "execution_count": 32,
     "metadata": {},
     "output_type": "execute_result"
    }
   ],
   "source": [
    "df"
   ]
  },
  {
   "cell_type": "code",
   "execution_count": 33,
   "metadata": {},
   "outputs": [
    {
     "data": {
      "text/html": [
       "<div>\n",
       "<style scoped>\n",
       "    .dataframe tbody tr th:only-of-type {\n",
       "        vertical-align: middle;\n",
       "    }\n",
       "\n",
       "    .dataframe tbody tr th {\n",
       "        vertical-align: top;\n",
       "    }\n",
       "\n",
       "    .dataframe thead th {\n",
       "        text-align: right;\n",
       "    }\n",
       "</style>\n",
       "<table border=\"1\" class=\"dataframe\">\n",
       "  <thead>\n",
       "    <tr style=\"text-align: right;\">\n",
       "      <th></th>\n",
       "      <th>id</th>\n",
       "      <th>data</th>\n",
       "    </tr>\n",
       "  </thead>\n",
       "  <tbody>\n",
       "    <tr>\n",
       "      <th>0</th>\n",
       "      <td>1</td>\n",
       "      <td>row1</td>\n",
       "    </tr>\n",
       "    <tr>\n",
       "      <th>1</th>\n",
       "      <td>2</td>\n",
       "      <td>row2</td>\n",
       "    </tr>\n",
       "  </tbody>\n",
       "</table>\n",
       "</div>"
      ],
      "text/plain": [
       "   id  data\n",
       "0   1  row1\n",
       "1   2  row2"
      ]
     },
     "execution_count": 33,
     "metadata": {},
     "output_type": "execute_result"
    }
   ],
   "source": [
    "df_locked"
   ]
  },
  {
   "cell_type": "code",
   "execution_count": null,
   "metadata": {},
   "outputs": [],
   "source": []
  }
 ],
 "metadata": {
  "kernelspec": {
   "display_name": "venv",
   "language": "python",
   "name": "python3"
  },
  "language_info": {
   "codemirror_mode": {
    "name": "ipython",
    "version": 3
   },
   "file_extension": ".py",
   "mimetype": "text/x-python",
   "name": "python",
   "nbconvert_exporter": "python",
   "pygments_lexer": "ipython3",
   "version": "3.12.3"
  }
 },
 "nbformat": 4,
 "nbformat_minor": 2
}

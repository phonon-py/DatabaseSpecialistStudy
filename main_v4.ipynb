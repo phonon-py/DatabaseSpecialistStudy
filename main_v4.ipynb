{
 "cells": [
  {
   "cell_type": "markdown",
   "metadata": {},
   "source": [
    "この問題は、リソースの消費を平均80%以内にするための物理サーバの必要台数を計算するものです。問題の解説にあるように、物理サーバが8台停止してもリソース消費が80%以内に収まる条件を満たすための台数を求めるための公式が使われています。\n",
    "\n",
    "問題の条件から次のように式を導きます。\n",
    "\n",
    "### 解説\n",
    "\n",
    "1. **平常時のリソース消費:**\n",
    "   - 平常時の物理サーバの台数を \\( N \\) 台とする。\n",
    "   - 平常時のリソース消費は60%なので、消費リソースは \\( 0.6N \\)。\n",
    "\n",
    "2. **物理サーバが8台停止した場合:**\n",
    "   - 停止後の物理サーバの台数は \\( N-8 \\) 台。\n",
    "   - 80%以内に抑えるためのリソース消費は \\( 0.8(N-8) \\)。\n",
    "\n",
    "3. **リソースの再配分:**\n",
    "   - 停止後の稼働中のサーバにリソースが均等に再配分されるため、次の等式が成立します。\n",
    "   \\[\n",
    "   0.6N = 0.8(N - 8)\n",
    "   \\]\n",
    "\n",
    "4. **等式の解:**\n",
    "   - 上記の等式を解くことで必要な物理サーバの台数 \\( N \\) を求めます。\n",
    "   \\[\n",
    "   0.6N = 0.8N - 6.4\n",
    "   \\]\n",
    "   \\[\n",
    "   0.6N - 0.8N = -6.4\n",
    "   \\]\n",
    "   \\[\n",
    "   -0.2N = -6.4\n",
    "   \\]\n",
    "   \\[\n",
    "   N = 32\n",
    "   \\]\n",
    "\n",
    "### 結論\n",
    "物理サーバが1台も停止していないときの最低台数は32台です。この解を基に、選択肢の中で正しい答えは「ア 32」となります。\n",
    "\n",
    "以上の計算を元にして、必要な物理サーバの台数を求めることができます。"
   ]
  },
  {
   "cell_type": "code",
   "execution_count": 6,
   "metadata": {},
   "outputs": [
    {
     "name": "stdout",
     "output_type": "stream",
     "text": [
      "6.241085016069416\n",
      "4.498714782464683\n",
      "8.597776156696817\n",
      "5.207939301696566\n",
      "5.542405480248166\n",
      "8.562762435313148\n",
      "0.3256940526641894\n",
      "5.6674627918473774e-05\n",
      "3.785764973048713\n",
      "6.91797919906326\n"
     ]
    }
   ],
   "source": [
    "import numpy as np\n",
    "\n",
    "for _ in range(10):\n",
    "    print(np.random.rand() * 10)"
   ]
  },
  {
   "cell_type": "code",
   "execution_count": 7,
   "metadata": {},
   "outputs": [],
   "source": [
    "from sqlalchemy import create_engine, Column, Integer, String, Float, MetaData, Table\n",
    "from sqlalchemy.orm import sessionmaker\n",
    "\n",
    "# メモリ内のSQLiteデータベースを作成\n",
    "engine = create_engine('sqlite:///example.db')\n",
    "metadata = MetaData()\n",
    "\n",
    "# テーブルの定義\n",
    "olap_table = Table('olap', metadata,\n",
    "    Column('id', Integer, primary_key=True),\n",
    "    Column('year', Integer),\n",
    "    Column('region', String),\n",
    "    Column('category', String),\n",
    "    Column('sales', Float)\n",
    ")\n",
    "\n",
    "# テーブルの作成\n",
    "metadata.create_all(engine)\n",
    "\n",
    "# セッションの作成\n",
    "Session = sessionmaker(bind=engine)\n",
    "session = Session()\n",
    "\n",
    "# サンプルデータの挿入\n",
    "sample_data = [\n",
    "    {'year': 2021, 'region': 'North', 'category': 'Electronics', 'sales': 1000.0},\n",
    "    {'year': 2021, 'region': 'South', 'category': 'Electronics', 'sales': 1500.0},\n",
    "    {'year': 2021, 'region': 'North', 'category': 'Furniture', 'sales': 700.0},\n",
    "    {'year': 2021, 'region': 'South', 'category': 'Furniture', 'sales': 800.0},\n",
    "    {'year': 2022, 'region': 'North', 'category': 'Electronics', 'sales': 1100.0},\n",
    "    {'year': 2022, 'region': 'South', 'category': 'Electronics', 'sales': 1600.0},\n",
    "    {'year': 2022, 'region': 'North', 'category': 'Furniture', 'sales': 750.0},\n",
    "    {'year': 2022, 'region': 'South', 'category': 'Furniture', 'sales': 850.0},\n",
    "]\n",
    "\n",
    "# データを挿入\n",
    "session.execute(olap_table.insert(), sample_data)\n",
    "session.commit()"
   ]
  },
  {
   "cell_type": "markdown",
   "metadata": {},
   "source": [
    "- pandasでの処理"
   ]
  },
  {
   "cell_type": "code",
   "execution_count": 8,
   "metadata": {},
   "outputs": [
    {
     "name": "stdout",
     "output_type": "stream",
     "text": [
      "Data using pandas:\n",
      "   id  year region     category   sales\n",
      "0   1  2021  North  Electronics  1000.0\n",
      "1   2  2021  South  Electronics  1500.0\n",
      "2   3  2021  North    Furniture   700.0\n",
      "3   4  2021  South    Furniture   800.0\n",
      "4   5  2022  North  Electronics  1100.0\n",
      "5   6  2022  South  Electronics  1600.0\n",
      "6   7  2022  North    Furniture   750.0\n",
      "7   8  2022  South    Furniture   850.0\n",
      "\n",
      "Roll-up using pandas:\n",
      "   year   sales\n",
      "0  2021  4000.0\n",
      "1  2022  4300.0\n"
     ]
    }
   ],
   "source": [
    "import pandas as pd\n",
    "\n",
    "# データベースからデータを取得\n",
    "df = pd.read_sql_table('olap', con=engine)\n",
    "\n",
    "# データの表示\n",
    "print(\"Data using pandas:\")\n",
    "print(df)\n",
    "\n",
    "# ロールアップ: 年ごとの売上を集計\n",
    "rollup_df = df.groupby('year')['sales'].sum().reset_index()\n",
    "print(\"\\nRoll-up using pandas:\")\n",
    "print(rollup_df)"
   ]
  },
  {
   "cell_type": "code",
   "execution_count": 10,
   "metadata": {},
   "outputs": [
    {
     "name": "stdout",
     "output_type": "stream",
     "text": [
      "Requirement already satisfied: polars in ./venv/lib/python3.12/site-packages (1.2.1)\n",
      "\n",
      "\u001b[1m[\u001b[0m\u001b[34;49mnotice\u001b[0m\u001b[1;39;49m]\u001b[0m\u001b[39;49m A new release of pip is available: \u001b[0m\u001b[31;49m24.0\u001b[0m\u001b[39;49m -> \u001b[0m\u001b[32;49m24.1.2\u001b[0m\n",
      "\u001b[1m[\u001b[0m\u001b[34;49mnotice\u001b[0m\u001b[1;39;49m]\u001b[0m\u001b[39;49m To update, run: \u001b[0m\u001b[32;49mpip install --upgrade pip\u001b[0m\n",
      "Requirement already satisfied: pip in ./venv/lib/python3.12/site-packages (24.0)\n",
      "Collecting pip\n",
      "  Using cached pip-24.1.2-py3-none-any.whl.metadata (3.6 kB)\n",
      "Using cached pip-24.1.2-py3-none-any.whl (1.8 MB)\n",
      "Installing collected packages: pip\n",
      "  Attempting uninstall: pip\n",
      "    Found existing installation: pip 24.0\n",
      "    Uninstalling pip-24.0:\n",
      "      Successfully uninstalled pip-24.0\n",
      "Successfully installed pip-24.1.2\n"
     ]
    }
   ],
   "source": [
    "!pip install polars\n",
    "!pip install --upgrade pip"
   ]
  },
  {
   "cell_type": "markdown",
   "metadata": {},
   "source": [
    "- Polarsの場合"
   ]
  },
  {
   "cell_type": "code",
   "execution_count": 13,
   "metadata": {},
   "outputs": [
    {
     "name": "stdout",
     "output_type": "stream",
     "text": [
      "Data using polars:\n"
     ]
    },
    {
     "data": {
      "text/html": [
       "<div><style>\n",
       ".dataframe > thead > tr,\n",
       ".dataframe > tbody > tr {\n",
       "  text-align: right;\n",
       "  white-space: pre-wrap;\n",
       "}\n",
       "</style>\n",
       "<small>shape: (8, 5)</small><table border=\"1\" class=\"dataframe\"><thead><tr><th>id</th><th>year</th><th>region</th><th>category</th><th>sales</th></tr><tr><td>i64</td><td>i64</td><td>str</td><td>str</td><td>f64</td></tr></thead><tbody><tr><td>1</td><td>2021</td><td>&quot;North&quot;</td><td>&quot;Electronics&quot;</td><td>1000.0</td></tr><tr><td>2</td><td>2021</td><td>&quot;South&quot;</td><td>&quot;Electronics&quot;</td><td>1500.0</td></tr><tr><td>3</td><td>2021</td><td>&quot;North&quot;</td><td>&quot;Furniture&quot;</td><td>700.0</td></tr><tr><td>4</td><td>2021</td><td>&quot;South&quot;</td><td>&quot;Furniture&quot;</td><td>800.0</td></tr><tr><td>5</td><td>2022</td><td>&quot;North&quot;</td><td>&quot;Electronics&quot;</td><td>1100.0</td></tr><tr><td>6</td><td>2022</td><td>&quot;South&quot;</td><td>&quot;Electronics&quot;</td><td>1600.0</td></tr><tr><td>7</td><td>2022</td><td>&quot;North&quot;</td><td>&quot;Furniture&quot;</td><td>750.0</td></tr><tr><td>8</td><td>2022</td><td>&quot;South&quot;</td><td>&quot;Furniture&quot;</td><td>850.0</td></tr></tbody></table></div>"
      ],
      "text/plain": [
       "shape: (8, 5)\n",
       "┌─────┬──────┬────────┬─────────────┬────────┐\n",
       "│ id  ┆ year ┆ region ┆ category    ┆ sales  │\n",
       "│ --- ┆ ---  ┆ ---    ┆ ---         ┆ ---    │\n",
       "│ i64 ┆ i64  ┆ str    ┆ str         ┆ f64    │\n",
       "╞═════╪══════╪════════╪═════════════╪════════╡\n",
       "│ 1   ┆ 2021 ┆ North  ┆ Electronics ┆ 1000.0 │\n",
       "│ 2   ┆ 2021 ┆ South  ┆ Electronics ┆ 1500.0 │\n",
       "│ 3   ┆ 2021 ┆ North  ┆ Furniture   ┆ 700.0  │\n",
       "│ 4   ┆ 2021 ┆ South  ┆ Furniture   ┆ 800.0  │\n",
       "│ 5   ┆ 2022 ┆ North  ┆ Electronics ┆ 1100.0 │\n",
       "│ 6   ┆ 2022 ┆ South  ┆ Electronics ┆ 1600.0 │\n",
       "│ 7   ┆ 2022 ┆ North  ┆ Furniture   ┆ 750.0  │\n",
       "│ 8   ┆ 2022 ┆ South  ┆ Furniture   ┆ 850.0  │\n",
       "└─────┴──────┴────────┴─────────────┴────────┘"
      ]
     },
     "execution_count": 13,
     "metadata": {},
     "output_type": "execute_result"
    }
   ],
   "source": [
    "import polars as pl\n",
    "\n",
    "# Polarsを使ってデータベースからデータを読み込む\n",
    "query = \"SELECT * FROM olap\"\n",
    "df_polars = pl.read_database(query=query, connection=engine.connect())\n",
    "\n",
    "# データの表示\n",
    "print(\"Data using polars:\")\n",
    "df_polars"
   ]
  },
  {
   "cell_type": "code",
   "execution_count": 19,
   "metadata": {},
   "outputs": [
    {
     "data": {
      "text/html": [
       "<div><style>\n",
       ".dataframe > thead > tr,\n",
       ".dataframe > tbody > tr {\n",
       "  text-align: right;\n",
       "  white-space: pre-wrap;\n",
       "}\n",
       "</style>\n",
       "<small>shape: (2, 2)</small><table border=\"1\" class=\"dataframe\"><thead><tr><th>year</th><th>total_sales</th></tr><tr><td>i64</td><td>f64</td></tr></thead><tbody><tr><td>2021</td><td>2500.0</td></tr><tr><td>2022</td><td>2700.0</td></tr></tbody></table></div>"
      ],
      "text/plain": [
       "shape: (2, 2)\n",
       "┌──────┬─────────────┐\n",
       "│ year ┆ total_sales │\n",
       "│ ---  ┆ ---         │\n",
       "│ i64  ┆ f64         │\n",
       "╞══════╪═════════════╡\n",
       "│ 2021 ┆ 2500.0      │\n",
       "│ 2022 ┆ 2700.0      │\n",
       "└──────┴─────────────┘"
      ]
     },
     "execution_count": 19,
     "metadata": {},
     "output_type": "execute_result"
    }
   ],
   "source": [
    "import polars as pl\n",
    "\n",
    "# サンプルデータの作成\n",
    "data = {\n",
    "    \"year\": [2021, 2021, 2022, 2022],\n",
    "    \"region\": [\"North\", \"South\", \"North\", \"South\"],\n",
    "    \"sales\": [1000.0, 1500.0, 1100.0, 1600.0]\n",
    "}\n",
    "\n",
    "# DataFrameの作成\n",
    "df = pl.DataFrame(data)\n",
    "\n",
    "# DataFrameをLazyFrameに変換\n",
    "lazy_df = df.lazy()\n",
    "\n",
    "# グループ化と集約操作を遅延評価で定義\n",
    "rollup_df = (\n",
    "    lazy_df\n",
    "    .group_by(\"year\")\n",
    "    .agg(pl.col(\"sales\").sum().alias(\"total_sales\"))\n",
    ")\n",
    "\n",
    "# 結果を収集（実行）\n",
    "result = rollup_df.collect()\n",
    "\n",
    "result"
   ]
  },
  {
   "cell_type": "code",
   "execution_count": 20,
   "metadata": {},
   "outputs": [
    {
     "name": "stdout",
     "output_type": "stream",
     "text": [
      "Data using polars:\n",
      "shape: (8, 5)\n",
      "┌─────┬──────┬────────┬─────────────┬────────┐\n",
      "│ id  ┆ year ┆ region ┆ category    ┆ sales  │\n",
      "│ --- ┆ ---  ┆ ---    ┆ ---         ┆ ---    │\n",
      "│ i64 ┆ i64  ┆ str    ┆ str         ┆ f64    │\n",
      "╞═════╪══════╪════════╪═════════════╪════════╡\n",
      "│ 1   ┆ 2021 ┆ North  ┆ Electronics ┆ 1000.0 │\n",
      "│ 2   ┆ 2021 ┆ South  ┆ Electronics ┆ 1500.0 │\n",
      "│ 3   ┆ 2021 ┆ North  ┆ Furniture   ┆ 700.0  │\n",
      "│ 4   ┆ 2021 ┆ South  ┆ Furniture   ┆ 800.0  │\n",
      "│ 5   ┆ 2022 ┆ North  ┆ Electronics ┆ 1100.0 │\n",
      "│ 6   ┆ 2022 ┆ South  ┆ Electronics ┆ 1600.0 │\n",
      "│ 7   ┆ 2022 ┆ North  ┆ Furniture   ┆ 750.0  │\n",
      "│ 8   ┆ 2022 ┆ South  ┆ Furniture   ┆ 850.0  │\n",
      "└─────┴──────┴────────┴─────────────┴────────┘\n",
      "\n",
      "Roll-up using polars:\n",
      "shape: (2, 2)\n",
      "┌──────┬─────────────┐\n",
      "│ year ┆ total_sales │\n",
      "│ ---  ┆ ---         │\n",
      "│ i64  ┆ f64         │\n",
      "╞══════╪═════════════╡\n",
      "│ 2021 ┆ 4000.0      │\n",
      "│ 2022 ┆ 4300.0      │\n",
      "└──────┴─────────────┘\n"
     ]
    }
   ],
   "source": [
    "# Polarsを使ってデータベースからデータを読み込む\n",
    "query = \"SELECT * FROM olap\"\n",
    "df_polars = pl.read_database(query=query, connection=engine.connect())\n",
    "\n",
    "# データの表示\n",
    "print(\"Data using polars:\")\n",
    "print(df_polars)\n",
    "\n",
    "# DataFrameをLazyFrameに変換\n",
    "lazy_df = df_polars.lazy()\n",
    "\n",
    "# グループ化と集約操作を遅延評価で定義\n",
    "rollup_df = (\n",
    "    lazy_df\n",
    "    .group_by(\"year\")\n",
    "    .agg(pl.col(\"sales\").sum().alias(\"total_sales\"))\n",
    ")\n",
    "\n",
    "# 結果を収集（実行）\n",
    "result = rollup_df.collect()\n",
    "\n",
    "print(\"\\nRoll-up using polars:\")\n",
    "print(result)"
   ]
  },
  {
   "cell_type": "code",
   "execution_count": 7,
   "metadata": {},
   "outputs": [
    {
     "name": "stdout",
     "output_type": "stream",
     "text": [
      "   id       data\n",
      "0   1  更新されたデータ1\n",
      "1   2       データ2\n",
      "2   3       データ3\n"
     ]
    }
   ],
   "source": [
    "from sqlalchemy import create_engine, MetaData, Table, Column, Integer, String, select\n",
    "from sqlalchemy.orm import sessionmaker\n",
    "import pandas as pd\n",
    "\n",
    "# メモリ上のSQLiteデータベースを作成\n",
    "engine = create_engine('sqlite:///:memory:')\n",
    "metadata = MetaData()\n",
    "\n",
    "# サンプルのテーブルを作成\n",
    "sample_table = Table(\n",
    "    'sample_table', metadata,\n",
    "    Column('id', Integer, primary_key=True),\n",
    "    Column('data', String)\n",
    ")\n",
    "\n",
    "metadata.create_all(engine)\n",
    "\n",
    "# 接続を作成\n",
    "connection = engine.connect()\n",
    "Session = sessionmaker(bind=connection)\n",
    "session = Session()\n",
    "\n",
    "# データの挿入\n",
    "connection.execute(sample_table.insert(), [\n",
    "    {'id': 1, 'data': 'データ1'},\n",
    "    {'id': 2, 'data': 'データ2'},\n",
    "    {'id': 3, 'data': 'データ3'}\n",
    "])\n",
    "\n",
    "# トランザクションの開始\n",
    "session.begin()\n",
    "\n",
    "try:\n",
    "    # データの更新\n",
    "    session.execute(\n",
    "        sample_table.update().where(sample_table.c.id == 1).values(data='更新されたデータ1')\n",
    "    )\n",
    "    session.commit()  # トランザクションのコミット\n",
    "\n",
    "    # トランザクションがコミットされた後にデータを読み込む\n",
    "    result = connection.execute(select(sample_table))\n",
    "    df = pd.DataFrame(result.fetchall(), columns=result.keys())\n",
    "    print(df)\n",
    "except:\n",
    "    print('Rollback')\n",
    "    session.rollback()  # ロールバック\n",
    "finally:\n",
    "    session.close()\n",
    "    connection.close()"
   ]
  },
  {
   "cell_type": "code",
   "execution_count": 9,
   "metadata": {},
   "outputs": [
    {
     "name": "stdout",
     "output_type": "stream",
     "text": [
      "Inventory Items:\n",
      "   ID    Item   Warehouse  Quantity\n",
      "0   1  Item A  Location 1       100\n",
      "1   2  Item A  Location 2        50\n",
      "\n",
      "Inventory Transactions:\n",
      "   ID  Transaction Number Transaction Date Posting Date  Quantity Moved  \\\n",
      "0   1                   1       2023-07-23   2023-07-23              10   \n",
      "\n",
      "   Source ID  Destination ID  \n",
      "0          1               2  \n"
     ]
    },
    {
     "name": "stderr",
     "output_type": "stream",
     "text": [
      "/var/folders/vp/nnsffs990cb9grbk5s17z9nw0000gn/T/ipykernel_8730/1311944584.py:7: MovedIn20Warning: The ``declarative_base()`` function is now available as sqlalchemy.orm.declarative_base(). (deprecated since: 2.0) (Background on SQLAlchemy 2.0 at: https://sqlalche.me/e/b8d9)\n",
      "  Base = declarative_base()\n"
     ]
    }
   ],
   "source": [
    "from sqlalchemy import create_engine, Column, Integer, String, Date, ForeignKey\n",
    "from sqlalchemy.ext.declarative import declarative_base\n",
    "from sqlalchemy.orm import sessionmaker, relationship\n",
    "from datetime import date\n",
    "import pandas as pd\n",
    "\n",
    "Base = declarative_base()\n",
    "\n",
    "class Item(Base):\n",
    "    __tablename__ = 'items'\n",
    "    id = Column(Integer, primary_key=True)\n",
    "    name = Column(String)\n",
    "\n",
    "class Warehouse(Base):\n",
    "    __tablename__ = 'warehouses'\n",
    "    id = Column(Integer, primary_key=True)\n",
    "    address = Column(String)\n",
    "\n",
    "class InventoryItem(Base):\n",
    "    __tablename__ = 'inventory_items'\n",
    "    id = Column(Integer, primary_key=True)\n",
    "    item_id = Column(Integer, ForeignKey('items.id'))\n",
    "    warehouse_id = Column(Integer, ForeignKey('warehouses.id'))\n",
    "    quantity = Column(Integer)\n",
    "    item = relationship('Item')\n",
    "    warehouse = relationship('Warehouse')\n",
    "\n",
    "class InventoryTransaction(Base):\n",
    "    __tablename__ = 'inventory_transactions'\n",
    "    id = Column(Integer, primary_key=True)\n",
    "    transaction_number = Column(Integer)\n",
    "    transaction_date = Column(Date)\n",
    "    posting_date = Column(Date)\n",
    "    quantity_moved = Column(Integer)\n",
    "    source_id = Column(Integer, ForeignKey('inventory_items.id'))\n",
    "    destination_id = Column(Integer, ForeignKey('inventory_items.id'))\n",
    "    source = relationship('InventoryItem', foreign_keys=[source_id])\n",
    "    destination = relationship('InventoryItem', foreign_keys=[destination_id])\n",
    "\n",
    "# メモリ上にSQLiteデータベースを作成\n",
    "engine = create_engine('sqlite:///:memory:')\n",
    "Base.metadata.create_all(engine)\n",
    "\n",
    "Session = sessionmaker(bind=engine)\n",
    "session = Session()\n",
    "\n",
    "# データの追加\n",
    "item = Item(name='Item A')\n",
    "warehouse1 = Warehouse(address='Location 1')\n",
    "warehouse2 = Warehouse(address='Location 2')\n",
    "inventory1 = InventoryItem(item=item, warehouse=warehouse1, quantity=100)\n",
    "inventory2 = InventoryItem(item=item, warehouse=warehouse2, quantity=50)\n",
    "\n",
    "session.add_all([item, warehouse1, warehouse2, inventory1, inventory2])\n",
    "session.commit()\n",
    "\n",
    "# 在庫取引の追加\n",
    "transaction = InventoryTransaction(\n",
    "    transaction_number=1,\n",
    "    transaction_date=date(2023, 7, 23),\n",
    "    posting_date=date(2023, 7, 23),\n",
    "    quantity_moved=10,\n",
    "    source=inventory1,\n",
    "    destination=inventory2\n",
    ")\n",
    "session.add(transaction)\n",
    "session.commit()\n",
    "\n",
    "# データの確認\n",
    "inventory_items = session.query(InventoryItem).all()\n",
    "transactions = session.query(InventoryTransaction).all()\n",
    "\n",
    "inventory_df = pd.DataFrame([(i.id, i.item.name, i.warehouse.address, i.quantity) for i in inventory_items],\n",
    "                            columns=['ID', 'Item', 'Warehouse', 'Quantity'])\n",
    "transaction_df = pd.DataFrame([(t.id, t.transaction_number, t.transaction_date, t.posting_date, t.quantity_moved, t.source_id, t.destination_id) for t in transactions],\n",
    "                              columns=['ID', 'Transaction Number', 'Transaction Date', 'Posting Date', 'Quantity Moved', 'Source ID', 'Destination ID'])\n",
    "\n",
    "print(\"Inventory Items:\")\n",
    "print(inventory_df)\n",
    "print(\"\\nInventory Transactions:\")\n",
    "print(transaction_df)"
   ]
  },
  {
   "cell_type": "code",
   "execution_count": 10,
   "metadata": {},
   "outputs": [
    {
     "name": "stdout",
     "output_type": "stream",
     "text": [
      "1秒毎に200キロバイト\n",
      "1MBは1000キロバイト\n"
     ]
    }
   ],
   "source": [
    "# 毎秒\n",
    "print(f\"1秒毎に{20*10}キロバイト\")\n",
    "\n",
    "mb_to_kb =  10**3\n",
    "print(f\"1MBは{mb_to_kb}キロバイト\")"
   ]
  },
  {
   "cell_type": "code",
   "execution_count": 13,
   "metadata": {},
   "outputs": [
    {
     "name": "stdout",
     "output_type": "stream",
     "text": [
      "dbの1時間のバッファアーカイブ回数は1.5回\n",
      "logファイルの1時間のアーカイブ回数は3.0回\n"
     ]
    }
   ],
   "source": [
    "db_buffer = 480 * mb_to_kb\n",
    "print(f\"dbの1時間のバッファアーカイブ回数は{(60*60) / (db_buffer / 200)}回\")\n",
    "\n",
    "log_buffer = 240 * mb_to_kb\n",
    "print(f\"logファイルの1時間のアーカイブ回数は{(60*60) / (log_buffer / 200)}回\")"
   ]
  },
  {
   "cell_type": "code",
   "execution_count": 19,
   "metadata": {},
   "outputs": [
    {
     "name": "stdout",
     "output_type": "stream",
     "text": [
      "enjoy\n"
     ]
    }
   ],
   "source": [
    "import re\n",
    "\n",
    "pattern = r\"enjoy\"\n",
    "text = \"enjoy data science\"\n",
    "matchOB = re.match(pattern, text)\n",
    "if matchOB:\n",
    "    print(matchOB.group())"
   ]
  },
  {
   "cell_type": "code",
   "execution_count": 1,
   "metadata": {},
   "outputs": [
    {
     "name": "stdout",
     "output_type": "stream",
     "text": [
      "a:  False\n",
      "b:  True\n",
      "c:  False\n",
      "d:  False\n"
     ]
    }
   ],
   "source": [
    "# サンプルの集合 R と S\n",
    "R = {1, 2, 3, 4}\n",
    "S = {3, 4, 5, 6}\n",
    "\n",
    "# R ∩ S\n",
    "intersection = R & S\n",
    "\n",
    "# a. (R - S) - (S - R)\n",
    "a = (R - S) - (S - R)\n",
    "print(\"a: \", a == intersection)\n",
    "\n",
    "# b. R - (R - S)\n",
    "b = R - (R - S)\n",
    "print(\"b: \", b == intersection)\n",
    "\n",
    "# c. R - (S - R)\n",
    "c = R - (S - R)\n",
    "print(\"c: \", c == intersection)\n",
    "\n",
    "# d. S - (R - S)\n",
    "d = S - (R - S)\n",
    "print(\"d: \", d == intersection)"
   ]
  },
  {
   "cell_type": "code",
   "execution_count": 2,
   "metadata": {},
   "outputs": [
    {
     "data": {
      "text/plain": [
       "{3, 4}"
      ]
     },
     "execution_count": 2,
     "metadata": {},
     "output_type": "execute_result"
    }
   ],
   "source": [
    "intersection"
   ]
  },
  {
   "cell_type": "code",
   "execution_count": 1,
   "metadata": {},
   "outputs": [
    {
     "data": {
      "text/html": [
       "<div>\n",
       "<style scoped>\n",
       "    .dataframe tbody tr th:only-of-type {\n",
       "        vertical-align: middle;\n",
       "    }\n",
       "\n",
       "    .dataframe tbody tr th {\n",
       "        vertical-align: top;\n",
       "    }\n",
       "\n",
       "    .dataframe thead th {\n",
       "        text-align: right;\n",
       "    }\n",
       "</style>\n",
       "<table border=\"1\" class=\"dataframe\">\n",
       "  <thead>\n",
       "    <tr style=\"text-align: right;\">\n",
       "      <th></th>\n",
       "      <th>A</th>\n",
       "      <th>B</th>\n",
       "      <th>C</th>\n",
       "    </tr>\n",
       "  </thead>\n",
       "  <tbody>\n",
       "    <tr>\n",
       "      <th>01</th>\n",
       "      <td>15</td>\n",
       "      <td>a</td>\n",
       "      <td>True</td>\n",
       "    </tr>\n",
       "    <tr>\n",
       "      <th>02</th>\n",
       "      <td>20</td>\n",
       "      <td>b</td>\n",
       "      <td>False</td>\n",
       "    </tr>\n",
       "    <tr>\n",
       "      <th>03</th>\n",
       "      <td>10</td>\n",
       "      <td>c</td>\n",
       "      <td>False</td>\n",
       "    </tr>\n",
       "  </tbody>\n",
       "</table>\n",
       "</div>"
      ],
      "text/plain": [
       "     A  B      C\n",
       "01  15  a   True\n",
       "02  20  b  False\n",
       "03  10  c  False"
      ]
     },
     "execution_count": 1,
     "metadata": {},
     "output_type": "execute_result"
    }
   ],
   "source": [
    "import pandas as pd\n",
    "\n",
    "\n",
    "df = pd.DataFrame([[15, \"a\", True], [20, \"b\", False], [10, \"c\", False]])\n",
    "df.index = [\"01\", \"02\", \"03\"]\n",
    "df.columns = [\"A\", \"B\", \"C\"]\n",
    "df"
   ]
  },
  {
   "cell_type": "code",
   "execution_count": 3,
   "metadata": {},
   "outputs": [
    {
     "data": {
      "text/plain": [
       "10"
      ]
     },
     "execution_count": 3,
     "metadata": {},
     "output_type": "execute_result"
    }
   ],
   "source": [
    "df.iloc[2,0]"
   ]
  },
  {
   "cell_type": "code",
   "execution_count": 4,
   "metadata": {},
   "outputs": [
    {
     "data": {
      "text/plain": [
       "10"
      ]
     },
     "execution_count": 4,
     "metadata": {},
     "output_type": "execute_result"
    }
   ],
   "source": [
    "df.loc[\"03\", \"A\"]"
   ]
  },
  {
   "cell_type": "code",
   "execution_count": 5,
   "metadata": {},
   "outputs": [
    {
     "name": "stdout",
     "output_type": "stream",
     "text": [
      "最大のレコード数は: 124個です\n"
     ]
    }
   ],
   "source": [
    "def max_records(k, n):\n",
    "    return (2 * k + 1) ** n - 1\n",
    "\n",
    "# 例えば、k = 2, n = 3 の場合\n",
    "k = 2\n",
    "n = 3\n",
    "print(f\"最大のレコード数は: {max_records(k, n)}個です\")"
   ]
  },
  {
   "cell_type": "code",
   "execution_count": 6,
   "metadata": {},
   "outputs": [
    {
     "name": "stdout",
     "output_type": "stream",
     "text": [
      "ログ長は200KBです\n"
     ]
    }
   ],
   "source": [
    "log_data = 20 * 10\n",
    "print(f\"ログ長は{log_data}KBです\")"
   ]
  },
  {
   "cell_type": "code",
   "execution_count": 7,
   "metadata": {},
   "outputs": [
    {
     "name": "stdout",
     "output_type": "stream",
     "text": [
      "DBバッファは480000KBです。\n",
      "logバッファは240000KBです。\n"
     ]
    }
   ],
   "source": [
    "db_buffer = 480 * 1000\n",
    "log_buffer = 240 * 1000\n",
    "print(f\"DBバッファは{db_buffer}KBです。\")\n",
    "print(f\"logバッファは{log_buffer}KBです。\")"
   ]
  },
  {
   "cell_type": "code",
   "execution_count": 8,
   "metadata": {},
   "outputs": [
    {
     "data": {
      "text/plain": [
       "3600"
      ]
     },
     "execution_count": 8,
     "metadata": {},
     "output_type": "execute_result"
    }
   ],
   "source": [
    "hour_to_sec = 60*60\n",
    "hour_to_sec"
   ]
  },
  {
   "cell_type": "code",
   "execution_count": 12,
   "metadata": {},
   "outputs": [
    {
     "data": {
      "text/plain": [
       "1200.0"
      ]
     },
     "execution_count": 12,
     "metadata": {},
     "output_type": "execute_result"
    }
   ],
   "source": [
    "log_buffer / log_data"
   ]
  },
  {
   "cell_type": "code",
   "execution_count": 13,
   "metadata": {},
   "outputs": [
    {
     "data": {
      "text/plain": [
       "3.0"
      ]
     },
     "execution_count": 13,
     "metadata": {},
     "output_type": "execute_result"
    }
   ],
   "source": [
    "3600 / 1200"
   ]
  },
  {
   "cell_type": "code",
   "execution_count": 14,
   "metadata": {},
   "outputs": [],
   "source": [
    "from sqlalchemy import create_engine, MetaData, Table, Column, Integer, String, ForeignKey\n",
    "\n",
    "engine = create_engine('sqlite:///:memory:')\n",
    "metadata = MetaData()\n",
    "\n",
    "# A表の定義\n",
    "table_a = Table('A', metadata,\n",
    "    Column('a', Integer, primary_key=True),\n",
    "    Column('name', String)\n",
    ")\n",
    "\n",
    "# B表の定義\n",
    "table_b = Table('B', metadata,\n",
    "    Column('b', Integer, primary_key=True),\n",
    "    Column('a', Integer, ForeignKey('A.a')),  # 1対1の関係を示す\n",
    "    Column('description', String)\n",
    ")\n",
    "\n",
    "metadata.create_all(engine)"
   ]
  },
  {
   "cell_type": "code",
   "execution_count": 16,
   "metadata": {},
   "outputs": [
    {
     "name": "stdout",
     "output_type": "stream",
     "text": [
      "[(1, '田中'), (2, '鈴木')]\n",
      "[(101, 1, '田中の詳細情報'), (102, 2, '鈴木の詳細情報')]\n"
     ]
    }
   ],
   "source": [
    "from sqlalchemy import create_engine, MetaData, Table, Column, Integer, String, ForeignKey\n",
    "\n",
    "# データベースエンジンの作成\n",
    "engine = create_engine('sqlite:///:memory:')\n",
    "metadata = MetaData()\n",
    "\n",
    "# A表 (社員情報) の定義\n",
    "table_a = Table('A', metadata,\n",
    "    Column('a', Integer, primary_key=True),\n",
    "    Column('name', String)\n",
    ")\n",
    "\n",
    "# B表 (社員詳細情報) の定義\n",
    "table_b = Table('B', metadata,\n",
    "    Column('b', Integer, primary_key=True),\n",
    "    Column('a', Integer, ForeignKey('A.a')),  # 1対1の関係を示す外部キー\n",
    "    Column('description', String)\n",
    ")\n",
    "\n",
    "# テーブルの作成\n",
    "metadata.create_all(engine)\n",
    "\n",
    "# サンプルデータの挿入\n",
    "with engine.connect() as conn:\n",
    "    conn.execute(table_a.insert(), [\n",
    "        {'a': 1, 'name': '田中'},\n",
    "        {'a': 2, 'name': '鈴木'}\n",
    "    ])\n",
    "    conn.execute(table_b.insert(), [\n",
    "        {'b': 101, 'a': 1, 'description': '田中の詳細情報'},\n",
    "        {'b': 102, 'a': 2, 'description': '鈴木の詳細情報'}\n",
    "    ])\n",
    "\n",
    "    # データの確認\n",
    "    result_a = conn.execute(table_a.select()).fetchall()\n",
    "    result_b = conn.execute(table_b.select()).fetchall()\n",
    "    print(result_a)\n",
    "    print(result_b)"
   ]
  },
  {
   "cell_type": "code",
   "execution_count": 17,
   "metadata": {},
   "outputs": [
    {
     "name": "stdout",
     "output_type": "stream",
     "text": [
      "32.0\n"
     ]
    }
   ],
   "source": [
    "# 物理サーバーの計算\n",
    "# 0.6n = 0.8(n-8)\n",
    "n = 6.4 / 0.2\n",
    "print(n)"
   ]
  },
  {
   "cell_type": "code",
   "execution_count": 18,
   "metadata": {},
   "outputs": [
    {
     "name": "stdout",
     "output_type": "stream",
     "text": [
      "    Name  Age Product  Price\n",
      "0  Alice   25    Book     15\n",
      "1  Alice   25     Pen      2\n",
      "2    Bob   30    Book     15\n",
      "3    Bob   30     Pen      2\n"
     ]
    }
   ],
   "source": [
    "import pandas as pd\n",
    "\n",
    "# Example data\n",
    "data_r = {\n",
    "    \"Name\": [\"Alice\", \"Bob\"],\n",
    "    \"Age\": [25, 30]\n",
    "}\n",
    "\n",
    "data_s = {\n",
    "    \"Product\": [\"Book\", \"Pen\"],\n",
    "    \"Price\": [15, 2]\n",
    "}\n",
    "\n",
    "# Create DataFrames for R and S\n",
    "df_r = pd.DataFrame(data_r)\n",
    "df_s = pd.DataFrame(data_s)\n",
    "\n",
    "# Perform Cartesian Product (Cross Join)\n",
    "cartesian_product = df_r.merge(df_s, how='cross')\n",
    "\n",
    "# Display the result\n",
    "print(cartesian_product)"
   ]
  },
  {
   "cell_type": "code",
   "execution_count": 19,
   "metadata": {},
   "outputs": [
    {
     "name": "stdout",
     "output_type": "stream",
     "text": [
      "shape: (2, 1)\n",
      "┌──────┐\n",
      "│ COL1 │\n",
      "│ ---  │\n",
      "│ str  │\n",
      "╞══════╡\n",
      "│ 新宿 │\n",
      "│ 渋谷 │\n",
      "└──────┘\n"
     ]
    }
   ],
   "source": [
    "import polars as pl\n",
    "\n",
    "# サンプルデータの作成\n",
    "tbl1 = pl.DataFrame({\n",
    "    \"COL1\": [\"新宿\", \"渋谷\", \"上野\", \"池袋\"]\n",
    "})\n",
    "\n",
    "tbl2 = pl.DataFrame({\n",
    "    \"COL1\": [\"新宿\", \"渋谷\"]\n",
    "})\n",
    "\n",
    "# EXISTS句の実行\n",
    "result = tbl1.filter(pl.col(\"COL1\").is_in(tbl2[\"COL1\"]))\n",
    "print(result)"
   ]
  },
  {
   "cell_type": "code",
   "execution_count": 22,
   "metadata": {},
   "outputs": [
    {
     "name": "stdout",
     "output_type": "stream",
     "text": [
      "新宿\n",
      "渋谷\n"
     ]
    }
   ],
   "source": [
    "from sqlalchemy import create_engine, Column, String, Table, MetaData, select, distinct\n",
    "from sqlalchemy.orm import sessionmaker\n",
    "\n",
    "# メモリ上のSQLiteデータベースを作成\n",
    "engine = create_engine('sqlite:///:memory:')\n",
    "metadata = MetaData()\n",
    "\n",
    "# TBL1とTBL2のテーブル定義\n",
    "tbl1 = Table('TBL1', metadata,\n",
    "             Column('COL1', String, primary_key=True))\n",
    "\n",
    "tbl2 = Table('TBL2', metadata,\n",
    "             Column('COL1', String, primary_key=True))\n",
    "\n",
    "# テーブルを作成\n",
    "metadata.create_all(engine)\n",
    "\n",
    "# データの挿入\n",
    "conn = engine.connect()\n",
    "conn.execute(tbl1.insert().values([{'COL1': '新宿'}, {'COL1': '渋谷'}, {'COL1': '上野'}, {'COL1': '池袋'}]))\n",
    "conn.execute(tbl2.insert().values([{'COL1': '新宿'}, {'COL1': '渋谷'}]))\n",
    "\n",
    "# セッションの作成\n",
    "Session = sessionmaker(bind=engine)\n",
    "session = Session()\n",
    "\n",
    "# SQLAlchemyでのクエリ実行\n",
    "subquery = select(tbl2.c.COL1)\n",
    "query = select(distinct(tbl1.c.COL1)).where(tbl1.c.COL1.in_(subquery))\n",
    "\n",
    "# クエリの結果を取得\n",
    "result = session.execute(query).fetchall()\n",
    "\n",
    "# 結果の表示\n",
    "for row in result:\n",
    "    print(row.COL1)\n",
    "\n",
    "# セッションの終了\n",
    "session.close()\n",
    "conn.close()"
   ]
  },
  {
   "cell_type": "code",
   "execution_count": 24,
   "metadata": {},
   "outputs": [
    {
     "name": "stdout",
     "output_type": "stream",
     "text": [
      "2024-07-30 07:55:03,474 INFO sqlalchemy.engine.Engine BEGIN (implicit)\n",
      "2024-07-30 07:55:03,475 INFO sqlalchemy.engine.Engine PRAGMA main.table_info(\"students\")\n",
      "2024-07-30 07:55:03,475 INFO sqlalchemy.engine.Engine [raw sql] ()\n",
      "2024-07-30 07:55:03,476 INFO sqlalchemy.engine.Engine PRAGMA temp.table_info(\"students\")\n",
      "2024-07-30 07:55:03,476 INFO sqlalchemy.engine.Engine [raw sql] ()\n",
      "2024-07-30 07:55:03,476 INFO sqlalchemy.engine.Engine \n",
      "CREATE TABLE students (\n",
      "\tid INTEGER NOT NULL, \n",
      "\tname VARCHAR, \n",
      "\tgrade VARCHAR, \n",
      "\tPRIMARY KEY (id)\n",
      ")\n",
      "\n",
      "\n",
      "2024-07-30 07:55:03,477 INFO sqlalchemy.engine.Engine [no key 0.00018s] ()\n",
      "2024-07-30 07:55:03,477 INFO sqlalchemy.engine.Engine COMMIT\n",
      "2024-07-30 07:55:03,478 INFO sqlalchemy.engine.Engine BEGIN (implicit)\n",
      "2024-07-30 07:55:03,478 INFO sqlalchemy.engine.Engine INSERT INTO students (name, grade) VALUES (?, ?)\n",
      "2024-07-30 07:55:03,478 INFO sqlalchemy.engine.Engine [generated in 0.00070s] [('Alice', 'A'), ('Bob', 'B')]\n",
      "2024-07-30 07:55:03,479 INFO sqlalchemy.engine.Engine CREATE VIEW v_students AS SELECT id, name FROM students WHERE grade = 'A'\n",
      "2024-07-30 07:55:03,481 INFO sqlalchemy.engine.Engine [generated in 0.00163s] ()\n",
      "2024-07-30 07:55:03,483 INFO sqlalchemy.engine.Engine SELECT id, name FROM v_students\n",
      "2024-07-30 07:55:03,484 INFO sqlalchemy.engine.Engine [generated in 0.00053s] ()\n",
      "(1, 'Alice')\n",
      "2024-07-30 07:55:03,485 INFO sqlalchemy.engine.Engine ROLLBACK\n"
     ]
    }
   ],
   "source": [
    "from sqlalchemy import create_engine, MetaData, Table, Column, Integer, String, select, text\n",
    "\n",
    "# メモリ上のSQLiteデータベースを作成\n",
    "engine = create_engine('sqlite:///:memory:', echo=True)\n",
    "metadata = MetaData()\n",
    "\n",
    "# 実表の定義\n",
    "students = Table('students', metadata,\n",
    "    Column('id', Integer, primary_key=True),\n",
    "    Column('name', String),\n",
    "    Column('grade', String)\n",
    ")\n",
    "\n",
    "# メモリ上にテーブルを作成\n",
    "metadata.create_all(engine)\n",
    "\n",
    "# データベースにデータを挿入\n",
    "connection = engine.connect()\n",
    "connection.execute(students.insert(), [\n",
    "    {'name': 'Alice', 'grade': 'A'},\n",
    "    {'name': 'Bob', 'grade': 'B'},\n",
    "])\n",
    "\n",
    "# ビューの定義（仮想的なもの）\n",
    "view_name = 'v_students'\n",
    "connection.execute(text(f\"CREATE VIEW {view_name} AS SELECT id, name FROM students WHERE grade = 'A'\"))\n",
    "\n",
    "# ビューへのクエリ\n",
    "result = connection.execute(text(f\"SELECT id, name FROM {view_name}\"))\n",
    "for row in result:\n",
    "    print(row)\n",
    "\n",
    "# 接続を閉じる\n",
    "connection.close()"
   ]
  },
  {
   "cell_type": "code",
   "execution_count": 3,
   "metadata": {},
   "outputs": [
    {
     "name": "stdout",
     "output_type": "stream",
     "text": [
      "shape: (2, 1)\n",
      "┌──────────────┐\n",
      "│ 仕入先コード │\n",
      "│ ---          │\n",
      "│ str          │\n",
      "╞══════════════╡\n",
      "│ K02          │\n",
      "│ K04          │\n",
      "└──────────────┘\n"
     ]
    }
   ],
   "source": [
    "from sqlalchemy import create_engine, Table, Column, String, Integer, MetaData, text\n",
    "import polars as pl\n",
    "\n",
    "# メモリ上にSQLiteデータベースを作成\n",
    "engine = create_engine('sqlite:///:memory:')\n",
    "metadata = MetaData()\n",
    "\n",
    "# テーブルを定義\n",
    "商品 = Table('商品', metadata,\n",
    "    Column('商品コード', String, primary_key=True),\n",
    "    Column('仕入先コード', String)\n",
    ")\n",
    "\n",
    "当月商品仕入れ合計 = Table('当月商品仕入れ合計', metadata,\n",
    "    Column('仕入先コード', String, primary_key=True),\n",
    "    Column('仕入合計金額', Integer)\n",
    ")\n",
    "\n",
    "# テーブルを作成\n",
    "metadata.create_all(engine)\n",
    "\n",
    "# データを挿入し、クエリを実行\n",
    "with engine.connect() as conn:\n",
    "    # データを挿入\n",
    "    conn.execute(商品.insert(), [\n",
    "        {'商品コード': 'S001', '仕入先コード': 'K01'},\n",
    "        {'商品コード': 'S002', '仕入先コード': 'K01'},\n",
    "        {'商品コード': 'S003', '仕入先コード': 'K02'},\n",
    "        {'商品コード': 'S004', '仕入先コード': 'K02'},\n",
    "        {'商品コード': 'S005', '仕入先コード': 'K03'},\n",
    "        {'商品コード': 'S006', '仕入先コード': 'K04'}\n",
    "    ])\n",
    "    conn.execute(当月商品仕入れ合計.insert(), [\n",
    "        {'仕入先コード': 'K01', '仕入合計金額': 150000},\n",
    "        {'仕入先コード': 'K03', '仕入合計金額': 100000},\n",
    "        {'仕入先コード': 'K05', '仕入合計金額': 250000}\n",
    "    ])\n",
    "\n",
    "    # SQLクエリを実行\n",
    "    result = conn.execute(text(\"\"\"\n",
    "        SELECT 仕入先コード FROM 商品\n",
    "        EXCEPT\n",
    "        SELECT 仕入先コード FROM 当月商品仕入れ合計\n",
    "    \"\"\"))\n",
    "    \n",
    "    # 結果をPolars DataFrameに変換\n",
    "    rows = result.fetchall()\n",
    "    df = pl.DataFrame({\"仕入先コード\": [row[0] for row in rows]})\n",
    "    print(df)\n",
    "\n",
    "# 出力:\n",
    "# shape: (2, 1)\n",
    "# ┌──────────────┐\n",
    "# │ 仕入先コード │\n",
    "# │ ---          │\n",
    "# │ str          │\n",
    "# ╞══════════════╡\n",
    "# │ K02          │\n",
    "# │ K04          │\n",
    "# └──────────────┘"
   ]
  },
  {
   "cell_type": "code",
   "execution_count": 5,
   "metadata": {},
   "outputs": [
    {
     "name": "stdout",
     "output_type": "stream",
     "text": [
      "[('開発',)]\n"
     ]
    }
   ],
   "source": [
    "from sqlalchemy import create_engine, Table, Column, String, Integer, MetaData\n",
    "\n",
    "# メモリ上にSQLiteデータベースを作成\n",
    "engine = create_engine('sqlite:///:memory:')\n",
    "metadata = MetaData()\n",
    "\n",
    "# 社員テーブルを定義\n",
    "社員 = Table('社員', metadata,\n",
    "    Column('社員番号', Integer, primary_key=True),\n",
    "    Column('部門名', String),\n",
    "    Column('社員名', String),\n",
    "    Column('役割名', String)\n",
    ")\n",
    "\n",
    "# テーブルを作成\n",
    "metadata.create_all(engine)\n",
    "\n",
    "# データを挿入し、クエリを実行\n",
    "with engine.connect() as conn:\n",
    "    conn.execute(社員.insert(), [\n",
    "        {'社員番号': 1, '部門名': '開発', '社員名': '山田', '役割名': 'プログラマ'},\n",
    "        {'社員番号': 2, '部門名': '開発', '社員名': '佐藤', '役割名': 'プログラマ'},\n",
    "        {'社員番号': 3, '部門名': '開発', '社員名': '鈴木', '役割名': 'プログラマ'},\n",
    "        {'社員番号': 4, '部門名': '販売', '社員名': '田中', '役割名': 'セールス'},\n",
    "        {'社員番号': 5, '部門名': '販売', '社員名': '伊藤', '役割名': 'プログラマ'},\n",
    "        {'社員番号': 6, '部門名': '管理', '社員名': '中村', '役割名': '管理職'}\n",
    "    ])\n",
    "   \n",
    "    # 正しいSQL文でクエリを実行\n",
    "    result = conn.execute(text(\"\"\"\n",
    "    SELECT 部門名 FROM 社員\n",
    "    WHERE 役割名 = 'プログラマ'\n",
    "    GROUP BY 部門名\n",
    "    HAVING COUNT(*) >= 3;\n",
    "    \"\"\")).fetchall()\n",
    "   \n",
    "    print(result)  # 正しい結果: [('開発',)]"
   ]
  },
  {
   "cell_type": "code",
   "execution_count": 7,
   "metadata": {},
   "outputs": [],
   "source": [
    "import numpy as np\n",
    "\n",
    "\n",
    "arr = np.array([[1, 1, 1], [3, 3, 3]])"
   ]
  },
  {
   "cell_type": "code",
   "execution_count": 8,
   "metadata": {},
   "outputs": [
    {
     "data": {
      "text/plain": [
       "array([2., 2., 2.])"
      ]
     },
     "execution_count": 8,
     "metadata": {},
     "output_type": "execute_result"
    }
   ],
   "source": [
    "arr.mean(axis=0)"
   ]
  },
  {
   "cell_type": "code",
   "execution_count": 9,
   "metadata": {},
   "outputs": [
    {
     "data": {
      "text/plain": [
       "array([1., 3.])"
      ]
     },
     "execution_count": 9,
     "metadata": {},
     "output_type": "execute_result"
    }
   ],
   "source": [
    "arr.mean(axis=1)"
   ]
  },
  {
   "cell_type": "code",
   "execution_count": 11,
   "metadata": {},
   "outputs": [
    {
     "name": "stdout",
     "output_type": "stream",
     "text": [
      "51.53 - 55.62 2.0\n",
      "55.62 - 59.70 3.0\n",
      "59.70 - 63.78 6.0\n",
      "63.78 - 67.86 7.0\n",
      "67.86 - 71.94 16.0\n",
      "71.94 - 76.02 29.0\n",
      "76.02 - 80.11 37.0\n",
      "80.11 - 84.19 65.0\n",
      "84.19 - 88.27 57.0\n",
      "88.27 - 92.35 90.0\n",
      "92.35 - 96.43 105.0\n",
      "96.43 - 100.51 115.0\n",
      "100.51 - 104.59 116.0\n",
      "104.59 - 108.68 78.0\n",
      "108.68 - 112.76 74.0\n",
      "112.76 - 116.84 77.0\n",
      "116.84 - 120.92 42.0\n",
      "120.92 - 125.00 41.0\n",
      "125.00 - 129.08 21.0\n",
      "129.08 - 133.17 10.0\n",
      "133.17 - 137.25 4.0\n",
      "137.25 - 141.33 2.0\n",
      "141.33 - 145.41 2.0\n",
      "145.41 - 149.49 0.0\n",
      "149.49 - 153.57 1.0\n"
     ]
    },
    {
     "data": {
      "image/png": "[encoded data removed]",
      "text/plain": [
       "<Figure size 640x480 with 1 Axes>"
      ]
     },
     "metadata": {},
     "output_type": "display_data"
    }
   ],
   "source": [
    "import numpy as np\n",
    "import matplotlib.pyplot as plt\n",
    "\n",
    "np.random.seed(123)\n",
    "mu = 100\n",
    "sigma = 15\n",
    "x = np.random.normal(mu, sigma, 1000)\n",
    "fig, ax = plt.subplots()\n",
    "n, bins, patches = ax.hist(x, bins=25)\n",
    "\n",
    "for i, num in enumerate(n):\n",
    "    print('{:.2f} - {:.2f} {}'.format(bins[i], bins[i + 1], num))\n",
    "\n",
    "plt.show()"
   ]
  },
  {
   "cell_type": "code",
   "execution_count": null,
   "metadata": {},
   "outputs": [],
   "source": []
  }
 ],
 "metadata": {
  "kernelspec": {
   "display_name": "venv",
   "language": "python",
   "name": "python3"
  },
  "language_info": {
   "codemirror_mode": {
    "name": "ipython",
    "version": 3
   },
   "file_extension": ".py",
   "mimetype": "text/x-python",
   "name": "python",
   "nbconvert_exporter": "python",
   "pygments_lexer": "ipython3",
   "version": "3.12.3"
  }
 },
 "nbformat": 4,
 "nbformat_minor": 2
}

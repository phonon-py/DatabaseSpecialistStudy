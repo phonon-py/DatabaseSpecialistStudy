{
 "cells": [
  {
   "cell_type": "markdown",
   "metadata": {},
   "source": [
    "この問題は、リソースの消費を平均80%以内にするための物理サーバの必要台数を計算するものです。問題の解説にあるように、物理サーバが8台停止してもリソース消費が80%以内に収まる条件を満たすための台数を求めるための公式が使われています。\n",
    "\n",
    "問題の条件から次のように式を導きます。\n",
    "\n",
    "### 解説\n",
    "\n",
    "1. **平常時のリソース消費:**\n",
    "   - 平常時の物理サーバの台数を \\( N \\) 台とする。\n",
    "   - 平常時のリソース消費は60%なので、消費リソースは \\( 0.6N \\)。\n",
    "\n",
    "2. **物理サーバが8台停止した場合:**\n",
    "   - 停止後の物理サーバの台数は \\( N-8 \\) 台。\n",
    "   - 80%以内に抑えるためのリソース消費は \\( 0.8(N-8) \\)。\n",
    "\n",
    "3. **リソースの再配分:**\n",
    "   - 停止後の稼働中のサーバにリソースが均等に再配分されるため、次の等式が成立します。\n",
    "   \\[\n",
    "   0.6N = 0.8(N - 8)\n",
    "   \\]\n",
    "\n",
    "4. **等式の解:**\n",
    "   - 上記の等式を解くことで必要な物理サーバの台数 \\( N \\) を求めます。\n",
    "   \\[\n",
    "   0.6N = 0.8N - 6.4\n",
    "   \\]\n",
    "   \\[\n",
    "   0.6N - 0.8N = -6.4\n",
    "   \\]\n",
    "   \\[\n",
    "   -0.2N = -6.4\n",
    "   \\]\n",
    "   \\[\n",
    "   N = 32\n",
    "   \\]\n",
    "\n",
    "### 結論\n",
    "物理サーバが1台も停止していないときの最低台数は32台です。この解を基に、選択肢の中で正しい答えは「ア 32」となります。\n",
    "\n",
    "以上の計算を元にして、必要な物理サーバの台数を求めることができます。"
   ]
  },
  {
   "cell_type": "code",
   "execution_count": 6,
   "metadata": {},
   "outputs": [
    {
     "name": "stdout",
     "output_type": "stream",
     "text": [
      "6.241085016069416\n",
      "4.498714782464683\n",
      "8.597776156696817\n",
      "5.207939301696566\n",
      "5.542405480248166\n",
      "8.562762435313148\n",
      "0.3256940526641894\n",
      "5.6674627918473774e-05\n",
      "3.785764973048713\n",
      "6.91797919906326\n"
     ]
    }
   ],
   "source": [
    "import numpy as np\n",
    "\n",
    "for _ in range(10):\n",
    "    print(np.random.rand() * 10)"
   ]
  },
  {
   "cell_type": "code",
   "execution_count": 7,
   "metadata": {},
   "outputs": [],
   "source": [
    "from sqlalchemy import create_engine, Column, Integer, String, Float, MetaData, Table\n",
    "from sqlalchemy.orm import sessionmaker\n",
    "\n",
    "# メモリ内のSQLiteデータベースを作成\n",
    "engine = create_engine('sqlite:///example.db')\n",
    "metadata = MetaData()\n",
    "\n",
    "# テーブルの定義\n",
    "olap_table = Table('olap', metadata,\n",
    "    Column('id', Integer, primary_key=True),\n",
    "    Column('year', Integer),\n",
    "    Column('region', String),\n",
    "    Column('category', String),\n",
    "    Column('sales', Float)\n",
    ")\n",
    "\n",
    "# テーブルの作成\n",
    "metadata.create_all(engine)\n",
    "\n",
    "# セッションの作成\n",
    "Session = sessionmaker(bind=engine)\n",
    "session = Session()\n",
    "\n",
    "# サンプルデータの挿入\n",
    "sample_data = [\n",
    "    {'year': 2021, 'region': 'North', 'category': 'Electronics', 'sales': 1000.0},\n",
    "    {'year': 2021, 'region': 'South', 'category': 'Electronics', 'sales': 1500.0},\n",
    "    {'year': 2021, 'region': 'North', 'category': 'Furniture', 'sales': 700.0},\n",
    "    {'year': 2021, 'region': 'South', 'category': 'Furniture', 'sales': 800.0},\n",
    "    {'year': 2022, 'region': 'North', 'category': 'Electronics', 'sales': 1100.0},\n",
    "    {'year': 2022, 'region': 'South', 'category': 'Electronics', 'sales': 1600.0},\n",
    "    {'year': 2022, 'region': 'North', 'category': 'Furniture', 'sales': 750.0},\n",
    "    {'year': 2022, 'region': 'South', 'category': 'Furniture', 'sales': 850.0},\n",
    "]\n",
    "\n",
    "# データを挿入\n",
    "session.execute(olap_table.insert(), sample_data)\n",
    "session.commit()"
   ]
  },
  {
   "cell_type": "markdown",
   "metadata": {},
   "source": [
    "- pandasでの処理"
   ]
  },
  {
   "cell_type": "code",
   "execution_count": 8,
   "metadata": {},
   "outputs": [
    {
     "name": "stdout",
     "output_type": "stream",
     "text": [
      "Data using pandas:\n",
      "   id  year region     category   sales\n",
      "0   1  2021  North  Electronics  1000.0\n",
      "1   2  2021  South  Electronics  1500.0\n",
      "2   3  2021  North    Furniture   700.0\n",
      "3   4  2021  South    Furniture   800.0\n",
      "4   5  2022  North  Electronics  1100.0\n",
      "5   6  2022  South  Electronics  1600.0\n",
      "6   7  2022  North    Furniture   750.0\n",
      "7   8  2022  South    Furniture   850.0\n",
      "\n",
      "Roll-up using pandas:\n",
      "   year   sales\n",
      "0  2021  4000.0\n",
      "1  2022  4300.0\n"
     ]
    }
   ],
   "source": [
    "import pandas as pd\n",
    "\n",
    "# データベースからデータを取得\n",
    "df = pd.read_sql_table('olap', con=engine)\n",
    "\n",
    "# データの表示\n",
    "print(\"Data using pandas:\")\n",
    "print(df)\n",
    "\n",
    "# ロールアップ: 年ごとの売上を集計\n",
    "rollup_df = df.groupby('year')['sales'].sum().reset_index()\n",
    "print(\"\\nRoll-up using pandas:\")\n",
    "print(rollup_df)"
   ]
  },
  {
   "cell_type": "code",
   "execution_count": 10,
   "metadata": {},
   "outputs": [
    {
     "name": "stdout",
     "output_type": "stream",
     "text": [
      "Requirement already satisfied: polars in ./venv/lib/python3.12/site-packages (1.2.1)\n",
      "\n",
      "\u001b[1m[\u001b[0m\u001b[34;49mnotice\u001b[0m\u001b[1;39;49m]\u001b[0m\u001b[39;49m A new release of pip is available: \u001b[0m\u001b[31;49m24.0\u001b[0m\u001b[39;49m -> \u001b[0m\u001b[32;49m24.1.2\u001b[0m\n",
      "\u001b[1m[\u001b[0m\u001b[34;49mnotice\u001b[0m\u001b[1;39;49m]\u001b[0m\u001b[39;49m To update, run: \u001b[0m\u001b[32;49mpip install --upgrade pip\u001b[0m\n",
      "Requirement already satisfied: pip in ./venv/lib/python3.12/site-packages (24.0)\n",
      "Collecting pip\n",
      "  Using cached pip-24.1.2-py3-none-any.whl.metadata (3.6 kB)\n",
      "Using cached pip-24.1.2-py3-none-any.whl (1.8 MB)\n",
      "Installing collected packages: pip\n",
      "  Attempting uninstall: pip\n",
      "    Found existing installation: pip 24.0\n",
      "    Uninstalling pip-24.0:\n",
      "      Successfully uninstalled pip-24.0\n",
      "Successfully installed pip-24.1.2\n"
     ]
    }
   ],
   "source": [
    "!pip install polars\n",
    "!pip install --upgrade pip"
   ]
  },
  {
   "cell_type": "markdown",
   "metadata": {},
   "source": [
    "- Polarsの場合"
   ]
  },
  {
   "cell_type": "code",
   "execution_count": 13,
   "metadata": {},
   "outputs": [
    {
     "name": "stdout",
     "output_type": "stream",
     "text": [
      "Data using polars:\n"
     ]
    },
    {
     "data": {
      "text/html": [
       "<div><style>\n",
       ".dataframe > thead > tr,\n",
       ".dataframe > tbody > tr {\n",
       "  text-align: right;\n",
       "  white-space: pre-wrap;\n",
       "}\n",
       "</style>\n",
       "<small>shape: (8, 5)</small><table border=\"1\" class=\"dataframe\"><thead><tr><th>id</th><th>year</th><th>region</th><th>category</th><th>sales</th></tr><tr><td>i64</td><td>i64</td><td>str</td><td>str</td><td>f64</td></tr></thead><tbody><tr><td>1</td><td>2021</td><td>&quot;North&quot;</td><td>&quot;Electronics&quot;</td><td>1000.0</td></tr><tr><td>2</td><td>2021</td><td>&quot;South&quot;</td><td>&quot;Electronics&quot;</td><td>1500.0</td></tr><tr><td>3</td><td>2021</td><td>&quot;North&quot;</td><td>&quot;Furniture&quot;</td><td>700.0</td></tr><tr><td>4</td><td>2021</td><td>&quot;South&quot;</td><td>&quot;Furniture&quot;</td><td>800.0</td></tr><tr><td>5</td><td>2022</td><td>&quot;North&quot;</td><td>&quot;Electronics&quot;</td><td>1100.0</td></tr><tr><td>6</td><td>2022</td><td>&quot;South&quot;</td><td>&quot;Electronics&quot;</td><td>1600.0</td></tr><tr><td>7</td><td>2022</td><td>&quot;North&quot;</td><td>&quot;Furniture&quot;</td><td>750.0</td></tr><tr><td>8</td><td>2022</td><td>&quot;South&quot;</td><td>&quot;Furniture&quot;</td><td>850.0</td></tr></tbody></table></div>"
      ],
      "text/plain": [
       "shape: (8, 5)\n",
       "┌─────┬──────┬────────┬─────────────┬────────┐\n",
       "│ id  ┆ year ┆ region ┆ category    ┆ sales  │\n",
       "│ --- ┆ ---  ┆ ---    ┆ ---         ┆ ---    │\n",
       "│ i64 ┆ i64  ┆ str    ┆ str         ┆ f64    │\n",
       "╞═════╪══════╪════════╪═════════════╪════════╡\n",
       "│ 1   ┆ 2021 ┆ North  ┆ Electronics ┆ 1000.0 │\n",
       "│ 2   ┆ 2021 ┆ South  ┆ Electronics ┆ 1500.0 │\n",
       "│ 3   ┆ 2021 ┆ North  ┆ Furniture   ┆ 700.0  │\n",
       "│ 4   ┆ 2021 ┆ South  ┆ Furniture   ┆ 800.0  │\n",
       "│ 5   ┆ 2022 ┆ North  ┆ Electronics ┆ 1100.0 │\n",
       "│ 6   ┆ 2022 ┆ South  ┆ Electronics ┆ 1600.0 │\n",
       "│ 7   ┆ 2022 ┆ North  ┆ Furniture   ┆ 750.0  │\n",
       "│ 8   ┆ 2022 ┆ South  ┆ Furniture   ┆ 850.0  │\n",
       "└─────┴──────┴────────┴─────────────┴────────┘"
      ]
     },
     "execution_count": 13,
     "metadata": {},
     "output_type": "execute_result"
    }
   ],
   "source": [
    "import polars as pl\n",
    "\n",
    "# Polarsを使ってデータベースからデータを読み込む\n",
    "query = \"SELECT * FROM olap\"\n",
    "df_polars = pl.read_database(query=query, connection=engine.connect())\n",
    "\n",
    "# データの表示\n",
    "print(\"Data using polars:\")\n",
    "df_polars"
   ]
  },
  {
   "cell_type": "code",
   "execution_count": 19,
   "metadata": {},
   "outputs": [
    {
     "data": {
      "text/html": [
       "<div><style>\n",
       ".dataframe > thead > tr,\n",
       ".dataframe > tbody > tr {\n",
       "  text-align: right;\n",
       "  white-space: pre-wrap;\n",
       "}\n",
       "</style>\n",
       "<small>shape: (2, 2)</small><table border=\"1\" class=\"dataframe\"><thead><tr><th>year</th><th>total_sales</th></tr><tr><td>i64</td><td>f64</td></tr></thead><tbody><tr><td>2021</td><td>2500.0</td></tr><tr><td>2022</td><td>2700.0</td></tr></tbody></table></div>"
      ],
      "text/plain": [
       "shape: (2, 2)\n",
       "┌──────┬─────────────┐\n",
       "│ year ┆ total_sales │\n",
       "│ ---  ┆ ---         │\n",
       "│ i64  ┆ f64         │\n",
       "╞══════╪═════════════╡\n",
       "│ 2021 ┆ 2500.0      │\n",
       "│ 2022 ┆ 2700.0      │\n",
       "└──────┴─────────────┘"
      ]
     },
     "execution_count": 19,
     "metadata": {},
     "output_type": "execute_result"
    }
   ],
   "source": [
    "import polars as pl\n",
    "\n",
    "# サンプルデータの作成\n",
    "data = {\n",
    "    \"year\": [2021, 2021, 2022, 2022],\n",
    "    \"region\": [\"North\", \"South\", \"North\", \"South\"],\n",
    "    \"sales\": [1000.0, 1500.0, 1100.0, 1600.0]\n",
    "}\n",
    "\n",
    "# DataFrameの作成\n",
    "df = pl.DataFrame(data)\n",
    "\n",
    "# DataFrameをLazyFrameに変換\n",
    "lazy_df = df.lazy()\n",
    "\n",
    "# グループ化と集約操作を遅延評価で定義\n",
    "rollup_df = (\n",
    "    lazy_df\n",
    "    .group_by(\"year\")\n",
    "    .agg(pl.col(\"sales\").sum().alias(\"total_sales\"))\n",
    ")\n",
    "\n",
    "# 結果を収集（実行）\n",
    "result = rollup_df.collect()\n",
    "\n",
    "result"
   ]
  },
  {
   "cell_type": "code",
   "execution_count": 20,
   "metadata": {},
   "outputs": [
    {
     "name": "stdout",
     "output_type": "stream",
     "text": [
      "Data using polars:\n",
      "shape: (8, 5)\n",
      "┌─────┬──────┬────────┬─────────────┬────────┐\n",
      "│ id  ┆ year ┆ region ┆ category    ┆ sales  │\n",
      "│ --- ┆ ---  ┆ ---    ┆ ---         ┆ ---    │\n",
      "│ i64 ┆ i64  ┆ str    ┆ str         ┆ f64    │\n",
      "╞═════╪══════╪════════╪═════════════╪════════╡\n",
      "│ 1   ┆ 2021 ┆ North  ┆ Electronics ┆ 1000.0 │\n",
      "│ 2   ┆ 2021 ┆ South  ┆ Electronics ┆ 1500.0 │\n",
      "│ 3   ┆ 2021 ┆ North  ┆ Furniture   ┆ 700.0  │\n",
      "│ 4   ┆ 2021 ┆ South  ┆ Furniture   ┆ 800.0  │\n",
      "│ 5   ┆ 2022 ┆ North  ┆ Electronics ┆ 1100.0 │\n",
      "│ 6   ┆ 2022 ┆ South  ┆ Electronics ┆ 1600.0 │\n",
      "│ 7   ┆ 2022 ┆ North  ┆ Furniture   ┆ 750.0  │\n",
      "│ 8   ┆ 2022 ┆ South  ┆ Furniture   ┆ 850.0  │\n",
      "└─────┴──────┴────────┴─────────────┴────────┘\n",
      "\n",
      "Roll-up using polars:\n",
      "shape: (2, 2)\n",
      "┌──────┬─────────────┐\n",
      "│ year ┆ total_sales │\n",
      "│ ---  ┆ ---         │\n",
      "│ i64  ┆ f64         │\n",
      "╞══════╪═════════════╡\n",
      "│ 2021 ┆ 4000.0      │\n",
      "│ 2022 ┆ 4300.0      │\n",
      "└──────┴─────────────┘\n"
     ]
    }
   ],
   "source": [
    "# Polarsを使ってデータベースからデータを読み込む\n",
    "query = \"SELECT * FROM olap\"\n",
    "df_polars = pl.read_database(query=query, connection=engine.connect())\n",
    "\n",
    "# データの表示\n",
    "print(\"Data using polars:\")\n",
    "print(df_polars)\n",
    "\n",
    "# DataFrameをLazyFrameに変換\n",
    "lazy_df = df_polars.lazy()\n",
    "\n",
    "# グループ化と集約操作を遅延評価で定義\n",
    "rollup_df = (\n",
    "    lazy_df\n",
    "    .group_by(\"year\")\n",
    "    .agg(pl.col(\"sales\").sum().alias(\"total_sales\"))\n",
    ")\n",
    "\n",
    "# 結果を収集（実行）\n",
    "result = rollup_df.collect()\n",
    "\n",
    "print(\"\\nRoll-up using polars:\")\n",
    "print(result)"
   ]
  },
  {
   "cell_type": "code",
   "execution_count": 7,
   "metadata": {},
   "outputs": [
    {
     "name": "stdout",
     "output_type": "stream",
     "text": [
      "   id       data\n",
      "0   1  更新されたデータ1\n",
      "1   2       データ2\n",
      "2   3       データ3\n"
     ]
    }
   ],
   "source": [
    "from sqlalchemy import create_engine, MetaData, Table, Column, Integer, String, select\n",
    "from sqlalchemy.orm import sessionmaker\n",
    "import pandas as pd\n",
    "\n",
    "# メモリ上のSQLiteデータベースを作成\n",
    "engine = create_engine('sqlite:///:memory:')\n",
    "metadata = MetaData()\n",
    "\n",
    "# サンプルのテーブルを作成\n",
    "sample_table = Table(\n",
    "    'sample_table', metadata,\n",
    "    Column('id', Integer, primary_key=True),\n",
    "    Column('data', String)\n",
    ")\n",
    "\n",
    "metadata.create_all(engine)\n",
    "\n",
    "# 接続を作成\n",
    "connection = engine.connect()\n",
    "Session = sessionmaker(bind=connection)\n",
    "session = Session()\n",
    "\n",
    "# データの挿入\n",
    "connection.execute(sample_table.insert(), [\n",
    "    {'id': 1, 'data': 'データ1'},\n",
    "    {'id': 2, 'data': 'データ2'},\n",
    "    {'id': 3, 'data': 'データ3'}\n",
    "])\n",
    "\n",
    "# トランザクションの開始\n",
    "session.begin()\n",
    "\n",
    "try:\n",
    "    # データの更新\n",
    "    session.execute(\n",
    "        sample_table.update().where(sample_table.c.id == 1).values(data='更新されたデータ1')\n",
    "    )\n",
    "    session.commit()  # トランザクションのコミット\n",
    "\n",
    "    # トランザクションがコミットされた後にデータを読み込む\n",
    "    result = connection.execute(select(sample_table))\n",
    "    df = pd.DataFrame(result.fetchall(), columns=result.keys())\n",
    "    print(df)\n",
    "except:\n",
    "    print('Rollback')\n",
    "    session.rollback()  # ロールバック\n",
    "finally:\n",
    "    session.close()\n",
    "    connection.close()"
   ]
  },
  {
   "cell_type": "code",
   "execution_count": null,
   "metadata": {},
   "outputs": [],
   "source": []
  }
 ],
 "metadata": {
  "kernelspec": {
   "display_name": "venv",
   "language": "python",
   "name": "python3"
  },
  "language_info": {
   "codemirror_mode": {
    "name": "ipython",
    "version": 3
   },
   "file_extension": ".py",
   "mimetype": "text/x-python",
   "name": "python",
   "nbconvert_exporter": "python",
   "pygments_lexer": "ipython3",
   "version": "3.12.3"
  }
 },
 "nbformat": 4,
 "nbformat_minor": 2
}
